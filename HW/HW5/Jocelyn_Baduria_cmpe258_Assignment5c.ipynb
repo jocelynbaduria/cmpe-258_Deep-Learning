{
  "nbformat": 4,
  "nbformat_minor": 0,
  "metadata": {
    "colab": {
      "name": "Jocelyn_Baduria_cmpe258_Assignment5c.ipynb",
      "provenance": [],
      "collapsed_sections": [],
      "authorship_tag": "ABX9TyNwcIHCZtmUA/D+ovZx9ezV",
      "include_colab_link": true
    },
    "kernelspec": {
      "name": "python3",
      "display_name": "Python 3"
    },
    "language_info": {
      "name": "python"
    },
    "accelerator": "GPU"
  },
  "cells": [
    {
      "cell_type": "markdown",
      "metadata": {
        "id": "view-in-github",
        "colab_type": "text"
      },
      "source": [
        "<a href=\"https://colab.research.google.com/github/jocelynbaduria/Assignment-5_part_abcd/blob/main/Jocelyn_Baduria_cmpe258_Assignment5c.ipynb\" target=\"_parent\"><img src=\"https://colab.research.google.com/assets/colab-badge.svg\" alt=\"Open In Colab\"/></a>"
      ]
    },
    {
      "cell_type": "markdown",
      "metadata": {
        "id": "4fz_d7xK4diZ"
      },
      "source": [
        "### C. PyTorch Model(rmse=)\n"
      ]
    },
    {
      "cell_type": "markdown",
      "metadata": {
        "id": "0mZ8qj-CHAMb"
      },
      "source": [
        "Load data from Github"
      ]
    },
    {
      "cell_type": "code",
      "metadata": {
        "colab": {
          "base_uri": "https://localhost:8080/"
        },
        "id": "TxODHUWj5X5M",
        "outputId": "c2877256-fc5d-4cc7-89a5-0a7e100618a6"
      },
      "source": [
        "!wget https://raw.githubusercontent.com/tensorflow/tfx/master/tfx/examples/chicago_taxi_pipeline/data/simple/data.csv"
      ],
      "execution_count": 3,
      "outputs": [
        {
          "output_type": "stream",
          "text": [
            "--2021-04-25 20:21:25--  https://raw.githubusercontent.com/tensorflow/tfx/master/tfx/examples/chicago_taxi_pipeline/data/simple/data.csv\n",
            "Resolving raw.githubusercontent.com (raw.githubusercontent.com)... 185.199.110.133, 185.199.108.133, 185.199.109.133, ...\n",
            "Connecting to raw.githubusercontent.com (raw.githubusercontent.com)|185.199.110.133|:443... connected.\n",
            "HTTP request sent, awaiting response... 200 OK\n",
            "Length: 1922812 (1.8M) [text/plain]\n",
            "Saving to: ‘data.csv.1’\n",
            "\n",
            "\rdata.csv.1            0%[                    ]       0  --.-KB/s               \rdata.csv.1          100%[===================>]   1.83M  --.-KB/s    in 0.1s    \n",
            "\n",
            "2021-04-25 20:21:26 (17.4 MB/s) - ‘data.csv.1’ saved [1922812/1922812]\n",
            "\n"
          ],
          "name": "stdout"
        }
      ]
    },
    {
      "cell_type": "markdown",
      "metadata": {
        "id": "BfMXYeg1H7Qj"
      },
      "source": [
        "Import Libraries"
      ]
    },
    {
      "cell_type": "code",
      "metadata": {
        "colab": {
          "base_uri": "https://localhost:8080/"
        },
        "id": "UJ075RsHHQ_f",
        "outputId": "46e378ec-911d-4590-cc7c-fafbabf92033"
      },
      "source": [
        "# Load the TensorBoard notebook extension\n",
        "# %load_ext tensorboard\n",
        "\n",
        "#PyTorch \n",
        "import tensorflow as tf\n",
        "import torch\n",
        "import torch.nn as nn\n",
        "from torch.utils.data import Dataset, DataLoader\n",
        "import torch.optim as torch_optim\n",
        "from torchvision import models\n",
        "from torch.nn import init\n",
        "import torch.optim as optim\n",
        "from torch.autograd import Variable\n",
        "import torch.nn.functional as F\n",
        "from torch.utils import data\n",
        "from torch.optim import lr_scheduler\n",
        "\n",
        "#sklearn\n",
        "from sklearn.model_selection import train_test_split\n",
        "from sklearn.preprocessing import LabelEncoder\n",
        "from sklearn.metrics import mean_squared_error\n",
        "from sklearn import preprocessing\n",
        "\n",
        "\n",
        "#other\n",
        "from IPython.core.debugger import set_trace\n",
        "import pandas as pd\n",
        "import numpy as np\n",
        "from collections import Counter\n",
        "from datetime import datetime\n",
        "import math \n",
        "from google.colab import files\n",
        "import io\n",
        "import datetime as dt\n",
        "import re\n",
        "import pandas_profiling\n",
        "import pandas_profiling as pp\n",
        "from math import sqrt\n",
        "\n",
        "#graphs\n",
        "import seaborn as sns\n",
        "import matplotlib.pyplot as plt\n",
        "import matplotlib.ticker as ticker\n",
        "import matplotlib.dates as mdates\n",
        "import matplotlib.cbook as cbook\n",
        "import pylab as plt\n",
        "import matplotlib.dates as dates\n",
        "import seaborn as sns\n",
        "import pylab\n",
        "import matplotlib\n",
        "import matplotlib.dates\n",
        "from IPython.display import display\n",
        "import plotly.graph_objects as go\n",
        "\n",
        "\n",
        "%matplotlib inline\n",
        "print(tf.__version__)"
      ],
      "execution_count": 4,
      "outputs": [
        {
          "output_type": "stream",
          "text": [
            "2.4.1\n"
          ],
          "name": "stdout"
        }
      ]
    },
    {
      "cell_type": "code",
      "metadata": {
        "colab": {
          "base_uri": "https://localhost:8080/"
        },
        "id": "FEPTS_SzX-eW",
        "outputId": "1e494786-b114-4e20-9dea-37e04c236b61"
      },
      "source": [
        "!nvidia-smi"
      ],
      "execution_count": 5,
      "outputs": [
        {
          "output_type": "stream",
          "text": [
            "Sun Apr 25 20:21:37 2021       \n",
            "+-----------------------------------------------------------------------------+\n",
            "| NVIDIA-SMI 465.19.01    Driver Version: 460.32.03    CUDA Version: 11.2     |\n",
            "|-------------------------------+----------------------+----------------------+\n",
            "| GPU  Name        Persistence-M| Bus-Id        Disp.A | Volatile Uncorr. ECC |\n",
            "| Fan  Temp  Perf  Pwr:Usage/Cap|         Memory-Usage | GPU-Util  Compute M. |\n",
            "|                               |                      |               MIG M. |\n",
            "|===============================+======================+======================|\n",
            "|   0  Tesla K80           Off  | 00000000:00:04.0 Off |                    0 |\n",
            "| N/A   49C    P8    27W / 149W |      0MiB / 11441MiB |      0%      Default |\n",
            "|                               |                      |                  N/A |\n",
            "+-------------------------------+----------------------+----------------------+\n",
            "                                                                               \n",
            "+-----------------------------------------------------------------------------+\n",
            "| Processes:                                                                  |\n",
            "|  GPU   GI   CI        PID   Type   Process name                  GPU Memory |\n",
            "|        ID   ID                                                   Usage      |\n",
            "|=============================================================================|\n",
            "|  No running processes found                                                 |\n",
            "+-----------------------------------------------------------------------------+\n"
          ],
          "name": "stdout"
        }
      ]
    },
    {
      "cell_type": "code",
      "metadata": {
        "colab": {
          "base_uri": "https://localhost:8080/"
        },
        "id": "al0ZekqiYMhY",
        "outputId": "8543ee0c-7a80-4a5d-ff05-1548708792cc"
      },
      "source": [
        "import torch\n",
        "torch.cuda.is_available()"
      ],
      "execution_count": 6,
      "outputs": [
        {
          "output_type": "execute_result",
          "data": {
            "text/plain": [
              "True"
            ]
          },
          "metadata": {
            "tags": []
          },
          "execution_count": 6
        }
      ]
    },
    {
      "cell_type": "code",
      "metadata": {
        "colab": {
          "base_uri": "https://localhost:8080/",
          "height": 37
        },
        "id": "TgJzgng_YbDs",
        "outputId": "5018c42b-1940-44b8-bdac-f660fedc7acf"
      },
      "source": [
        "import tensorflow as tf\n",
        "tf.test.gpu_device_name()"
      ],
      "execution_count": 7,
      "outputs": [
        {
          "output_type": "execute_result",
          "data": {
            "application/vnd.google.colaboratory.intrinsic+json": {
              "type": "string"
            },
            "text/plain": [
              "'/device:GPU:0'"
            ]
          },
          "metadata": {
            "tags": []
          },
          "execution_count": 7
        }
      ]
    },
    {
      "cell_type": "code",
      "metadata": {
        "colab": {
          "base_uri": "https://localhost:8080/"
        },
        "id": "xbSjFnr08VEH",
        "outputId": "2bce6534-32de-490c-82f0-44a512d76272"
      },
      "source": [
        "# load tqdm\n",
        "# !pip install --force https://github.com/chengs/tqdm/archive/colab.zip\n",
        "from tqdm import tqdm, tqdm_notebook, tnrange\n",
        "\n",
        "# Please use `tqdm.notebook.trange` instead of `tqdm.tnrange`\n",
        "# Please use `tqdm.notebook.tqdm` instead of `tqdm.tqdm_notebook`\n",
        "\n",
        "\n",
        "device = torch.device(\"cuda:0\" if torch.cuda.is_available() else \"cpu\")\n",
        "device"
      ],
      "execution_count": 8,
      "outputs": [
        {
          "output_type": "execute_result",
          "data": {
            "text/plain": [
              "device(type='cuda', index=0)"
            ]
          },
          "metadata": {
            "tags": []
          },
          "execution_count": 8
        }
      ]
    },
    {
      "cell_type": "code",
      "metadata": {
        "colab": {
          "base_uri": "https://localhost:8080/"
        },
        "id": "jqV5OIQZHf5X",
        "outputId": "392fdb13-69fd-4ae3-d800-1df884918841"
      },
      "source": [
        "taxi_data = pd.read_csv('/content/data.csv')\n",
        "taxi_data.info()"
      ],
      "execution_count": 9,
      "outputs": [
        {
          "output_type": "stream",
          "text": [
            "<class 'pandas.core.frame.DataFrame'>\n",
            "RangeIndex: 15002 entries, 0 to 15001\n",
            "Data columns (total 18 columns):\n",
            " #   Column                  Non-Null Count  Dtype  \n",
            "---  ------                  --------------  -----  \n",
            " 0   pickup_community_area   15000 non-null  float64\n",
            " 1   fare                    15002 non-null  float64\n",
            " 2   trip_start_month        15002 non-null  int64  \n",
            " 3   trip_start_hour         15002 non-null  int64  \n",
            " 4   trip_start_day          15002 non-null  int64  \n",
            " 5   trip_start_timestamp    15002 non-null  int64  \n",
            " 6   pickup_latitude         15000 non-null  float64\n",
            " 7   pickup_longitude        15000 non-null  float64\n",
            " 8   dropoff_latitude        14519 non-null  float64\n",
            " 9   dropoff_longitude       14519 non-null  float64\n",
            " 10  trip_miles              15002 non-null  float64\n",
            " 11  pickup_census_tract     1 non-null      float64\n",
            " 12  dropoff_census_tract    10761 non-null  float64\n",
            " 13  payment_type            15002 non-null  object \n",
            " 14  company                 9862 non-null   object \n",
            " 15  trip_seconds            14996 non-null  float64\n",
            " 16  dropoff_community_area  14495 non-null  float64\n",
            " 17  tips                    15002 non-null  float64\n",
            "dtypes: float64(12), int64(4), object(2)\n",
            "memory usage: 2.1+ MB\n"
          ],
          "name": "stdout"
        }
      ]
    },
    {
      "cell_type": "markdown",
      "metadata": {
        "id": "M7ZC7RVBHxwT"
      },
      "source": [
        "Data - Preprocessing"
      ]
    },
    {
      "cell_type": "code",
      "metadata": {
        "colab": {
          "base_uri": "https://localhost:8080/",
          "height": 428
        },
        "id": "nYggfSvGHsMI",
        "outputId": "224a16d3-9b8a-4afa-8a1a-363de469130d"
      },
      "source": [
        "taxi_data.head()"
      ],
      "execution_count": 10,
      "outputs": [
        {
          "output_type": "execute_result",
          "data": {
            "text/html": [
              "<div>\n",
              "<style scoped>\n",
              "    .dataframe tbody tr th:only-of-type {\n",
              "        vertical-align: middle;\n",
              "    }\n",
              "\n",
              "    .dataframe tbody tr th {\n",
              "        vertical-align: top;\n",
              "    }\n",
              "\n",
              "    .dataframe thead th {\n",
              "        text-align: right;\n",
              "    }\n",
              "</style>\n",
              "<table border=\"1\" class=\"dataframe\">\n",
              "  <thead>\n",
              "    <tr style=\"text-align: right;\">\n",
              "      <th></th>\n",
              "      <th>pickup_community_area</th>\n",
              "      <th>fare</th>\n",
              "      <th>trip_start_month</th>\n",
              "      <th>trip_start_hour</th>\n",
              "      <th>trip_start_day</th>\n",
              "      <th>trip_start_timestamp</th>\n",
              "      <th>pickup_latitude</th>\n",
              "      <th>pickup_longitude</th>\n",
              "      <th>dropoff_latitude</th>\n",
              "      <th>dropoff_longitude</th>\n",
              "      <th>trip_miles</th>\n",
              "      <th>pickup_census_tract</th>\n",
              "      <th>dropoff_census_tract</th>\n",
              "      <th>payment_type</th>\n",
              "      <th>company</th>\n",
              "      <th>trip_seconds</th>\n",
              "      <th>dropoff_community_area</th>\n",
              "      <th>tips</th>\n",
              "    </tr>\n",
              "  </thead>\n",
              "  <tbody>\n",
              "    <tr>\n",
              "      <th>0</th>\n",
              "      <td>NaN</td>\n",
              "      <td>12.45</td>\n",
              "      <td>5</td>\n",
              "      <td>19</td>\n",
              "      <td>6</td>\n",
              "      <td>1400269500</td>\n",
              "      <td>NaN</td>\n",
              "      <td>NaN</td>\n",
              "      <td>NaN</td>\n",
              "      <td>NaN</td>\n",
              "      <td>0.0</td>\n",
              "      <td>NaN</td>\n",
              "      <td>NaN</td>\n",
              "      <td>Credit Card</td>\n",
              "      <td>Chicago Elite Cab Corp. (Chicago Carriag</td>\n",
              "      <td>0.0</td>\n",
              "      <td>NaN</td>\n",
              "      <td>0.0</td>\n",
              "    </tr>\n",
              "    <tr>\n",
              "      <th>1</th>\n",
              "      <td>NaN</td>\n",
              "      <td>0.00</td>\n",
              "      <td>3</td>\n",
              "      <td>19</td>\n",
              "      <td>5</td>\n",
              "      <td>1362683700</td>\n",
              "      <td>NaN</td>\n",
              "      <td>NaN</td>\n",
              "      <td>NaN</td>\n",
              "      <td>NaN</td>\n",
              "      <td>0.0</td>\n",
              "      <td>NaN</td>\n",
              "      <td>NaN</td>\n",
              "      <td>Unknown</td>\n",
              "      <td>Chicago Elite Cab Corp.</td>\n",
              "      <td>300.0</td>\n",
              "      <td>NaN</td>\n",
              "      <td>0.0</td>\n",
              "    </tr>\n",
              "    <tr>\n",
              "      <th>2</th>\n",
              "      <td>60.0</td>\n",
              "      <td>27.05</td>\n",
              "      <td>10</td>\n",
              "      <td>2</td>\n",
              "      <td>3</td>\n",
              "      <td>1380593700</td>\n",
              "      <td>41.836150</td>\n",
              "      <td>-87.648788</td>\n",
              "      <td>NaN</td>\n",
              "      <td>NaN</td>\n",
              "      <td>12.6</td>\n",
              "      <td>NaN</td>\n",
              "      <td>NaN</td>\n",
              "      <td>Cash</td>\n",
              "      <td>Taxi Affiliation Services</td>\n",
              "      <td>1380.0</td>\n",
              "      <td>NaN</td>\n",
              "      <td>0.0</td>\n",
              "    </tr>\n",
              "    <tr>\n",
              "      <th>3</th>\n",
              "      <td>10.0</td>\n",
              "      <td>5.85</td>\n",
              "      <td>10</td>\n",
              "      <td>1</td>\n",
              "      <td>2</td>\n",
              "      <td>1382319000</td>\n",
              "      <td>41.985015</td>\n",
              "      <td>-87.804532</td>\n",
              "      <td>NaN</td>\n",
              "      <td>NaN</td>\n",
              "      <td>0.0</td>\n",
              "      <td>NaN</td>\n",
              "      <td>NaN</td>\n",
              "      <td>Cash</td>\n",
              "      <td>Taxi Affiliation Services</td>\n",
              "      <td>180.0</td>\n",
              "      <td>NaN</td>\n",
              "      <td>0.0</td>\n",
              "    </tr>\n",
              "    <tr>\n",
              "      <th>4</th>\n",
              "      <td>14.0</td>\n",
              "      <td>16.65</td>\n",
              "      <td>5</td>\n",
              "      <td>7</td>\n",
              "      <td>5</td>\n",
              "      <td>1369897200</td>\n",
              "      <td>41.968069</td>\n",
              "      <td>-87.721559</td>\n",
              "      <td>NaN</td>\n",
              "      <td>NaN</td>\n",
              "      <td>0.0</td>\n",
              "      <td>NaN</td>\n",
              "      <td>NaN</td>\n",
              "      <td>Cash</td>\n",
              "      <td>Dispatch Taxi Affiliation</td>\n",
              "      <td>1080.0</td>\n",
              "      <td>NaN</td>\n",
              "      <td>0.0</td>\n",
              "    </tr>\n",
              "  </tbody>\n",
              "</table>\n",
              "</div>"
            ],
            "text/plain": [
              "   pickup_community_area   fare  ...  dropoff_community_area  tips\n",
              "0                    NaN  12.45  ...                     NaN   0.0\n",
              "1                    NaN   0.00  ...                     NaN   0.0\n",
              "2                   60.0  27.05  ...                     NaN   0.0\n",
              "3                   10.0   5.85  ...                     NaN   0.0\n",
              "4                   14.0  16.65  ...                     NaN   0.0\n",
              "\n",
              "[5 rows x 18 columns]"
            ]
          },
          "metadata": {
            "tags": []
          },
          "execution_count": 10
        }
      ]
    },
    {
      "cell_type": "code",
      "metadata": {
        "colab": {
          "base_uri": "https://localhost:8080/",
          "height": 317
        },
        "id": "0xka01Q7IMk0",
        "outputId": "e0982b8a-a4d7-4c4d-d5bf-1f9bf2d0119f"
      },
      "source": [
        "# Get the count, mean and stdev, min, max, quantile values\n",
        "taxi_data.describe()"
      ],
      "execution_count": 11,
      "outputs": [
        {
          "output_type": "execute_result",
          "data": {
            "text/html": [
              "<div>\n",
              "<style scoped>\n",
              "    .dataframe tbody tr th:only-of-type {\n",
              "        vertical-align: middle;\n",
              "    }\n",
              "\n",
              "    .dataframe tbody tr th {\n",
              "        vertical-align: top;\n",
              "    }\n",
              "\n",
              "    .dataframe thead th {\n",
              "        text-align: right;\n",
              "    }\n",
              "</style>\n",
              "<table border=\"1\" class=\"dataframe\">\n",
              "  <thead>\n",
              "    <tr style=\"text-align: right;\">\n",
              "      <th></th>\n",
              "      <th>pickup_community_area</th>\n",
              "      <th>fare</th>\n",
              "      <th>trip_start_month</th>\n",
              "      <th>trip_start_hour</th>\n",
              "      <th>trip_start_day</th>\n",
              "      <th>trip_start_timestamp</th>\n",
              "      <th>pickup_latitude</th>\n",
              "      <th>pickup_longitude</th>\n",
              "      <th>dropoff_latitude</th>\n",
              "      <th>dropoff_longitude</th>\n",
              "      <th>trip_miles</th>\n",
              "      <th>pickup_census_tract</th>\n",
              "      <th>dropoff_census_tract</th>\n",
              "      <th>trip_seconds</th>\n",
              "      <th>dropoff_community_area</th>\n",
              "      <th>tips</th>\n",
              "    </tr>\n",
              "  </thead>\n",
              "  <tbody>\n",
              "    <tr>\n",
              "      <th>count</th>\n",
              "      <td>15000.000000</td>\n",
              "      <td>15002.000000</td>\n",
              "      <td>15002.000000</td>\n",
              "      <td>15002.000000</td>\n",
              "      <td>15002.000000</td>\n",
              "      <td>1.500200e+04</td>\n",
              "      <td>15000.000000</td>\n",
              "      <td>15000.000000</td>\n",
              "      <td>14519.000000</td>\n",
              "      <td>14519.000000</td>\n",
              "      <td>15002.000000</td>\n",
              "      <td>1.000000e+00</td>\n",
              "      <td>1.076100e+04</td>\n",
              "      <td>14996.000000</td>\n",
              "      <td>14495.000000</td>\n",
              "      <td>15002.000000</td>\n",
              "    </tr>\n",
              "    <tr>\n",
              "      <th>mean</th>\n",
              "      <td>22.250267</td>\n",
              "      <td>11.768216</td>\n",
              "      <td>6.585655</td>\n",
              "      <td>13.632316</td>\n",
              "      <td>4.186642</td>\n",
              "      <td>1.408495e+09</td>\n",
              "      <td>41.903046</td>\n",
              "      <td>-87.657551</td>\n",
              "      <td>41.902672</td>\n",
              "      <td>-87.654113</td>\n",
              "      <td>2.872820</td>\n",
              "      <td>1.703108e+10</td>\n",
              "      <td>1.703135e+10</td>\n",
              "      <td>777.627501</td>\n",
              "      <td>20.967782</td>\n",
              "      <td>1.076674</td>\n",
              "    </tr>\n",
              "    <tr>\n",
              "      <th>std</th>\n",
              "      <td>19.414828</td>\n",
              "      <td>11.538850</td>\n",
              "      <td>3.390997</td>\n",
              "      <td>6.620927</td>\n",
              "      <td>2.015694</td>\n",
              "      <td>2.916043e+07</td>\n",
              "      <td>0.037751</td>\n",
              "      <td>0.067846</td>\n",
              "      <td>0.038478</td>\n",
              "      <td>0.056616</td>\n",
              "      <td>15.276007</td>\n",
              "      <td>NaN</td>\n",
              "      <td>3.312243e+05</td>\n",
              "      <td>977.538769</td>\n",
              "      <td>17.641056</td>\n",
              "      <td>2.158340</td>\n",
              "    </tr>\n",
              "    <tr>\n",
              "      <th>min</th>\n",
              "      <td>1.000000</td>\n",
              "      <td>0.000000</td>\n",
              "      <td>1.000000</td>\n",
              "      <td>0.000000</td>\n",
              "      <td>1.000000</td>\n",
              "      <td>1.357000e+09</td>\n",
              "      <td>41.694879</td>\n",
              "      <td>-87.913625</td>\n",
              "      <td>41.663671</td>\n",
              "      <td>-87.913625</td>\n",
              "      <td>0.000000</td>\n",
              "      <td>1.703108e+10</td>\n",
              "      <td>1.703101e+10</td>\n",
              "      <td>0.000000</td>\n",
              "      <td>1.000000</td>\n",
              "      <td>0.000000</td>\n",
              "    </tr>\n",
              "    <tr>\n",
              "      <th>25%</th>\n",
              "      <td>8.000000</td>\n",
              "      <td>5.850000</td>\n",
              "      <td>4.000000</td>\n",
              "      <td>9.000000</td>\n",
              "      <td>2.000000</td>\n",
              "      <td>1.384622e+09</td>\n",
              "      <td>41.880994</td>\n",
              "      <td>-87.655998</td>\n",
              "      <td>41.880994</td>\n",
              "      <td>-87.656804</td>\n",
              "      <td>0.000000</td>\n",
              "      <td>1.703108e+10</td>\n",
              "      <td>1.703108e+10</td>\n",
              "      <td>360.000000</td>\n",
              "      <td>8.000000</td>\n",
              "      <td>0.000000</td>\n",
              "    </tr>\n",
              "    <tr>\n",
              "      <th>50%</th>\n",
              "      <td>8.000000</td>\n",
              "      <td>7.850000</td>\n",
              "      <td>7.000000</td>\n",
              "      <td>15.000000</td>\n",
              "      <td>4.000000</td>\n",
              "      <td>1.407260e+09</td>\n",
              "      <td>41.892508</td>\n",
              "      <td>-87.633308</td>\n",
              "      <td>41.893216</td>\n",
              "      <td>-87.634156</td>\n",
              "      <td>1.000000</td>\n",
              "      <td>1.703108e+10</td>\n",
              "      <td>1.703124e+10</td>\n",
              "      <td>540.000000</td>\n",
              "      <td>12.000000</td>\n",
              "      <td>0.000000</td>\n",
              "    </tr>\n",
              "    <tr>\n",
              "      <th>75%</th>\n",
              "      <td>32.000000</td>\n",
              "      <td>12.450000</td>\n",
              "      <td>10.000000</td>\n",
              "      <td>19.000000</td>\n",
              "      <td>6.000000</td>\n",
              "      <td>1.431339e+09</td>\n",
              "      <td>41.921877</td>\n",
              "      <td>-87.626211</td>\n",
              "      <td>41.922686</td>\n",
              "      <td>-87.626215</td>\n",
              "      <td>2.500000</td>\n",
              "      <td>1.703108e+10</td>\n",
              "      <td>1.703183e+10</td>\n",
              "      <td>960.000000</td>\n",
              "      <td>32.000000</td>\n",
              "      <td>2.000000</td>\n",
              "    </tr>\n",
              "    <tr>\n",
              "      <th>max</th>\n",
              "      <td>77.000000</td>\n",
              "      <td>700.070000</td>\n",
              "      <td>12.000000</td>\n",
              "      <td>23.000000</td>\n",
              "      <td>7.000000</td>\n",
              "      <td>1.483116e+09</td>\n",
              "      <td>42.009623</td>\n",
              "      <td>-87.572782</td>\n",
              "      <td>42.021224</td>\n",
              "      <td>-87.540936</td>\n",
              "      <td>1710.000000</td>\n",
              "      <td>1.703108e+10</td>\n",
              "      <td>1.703198e+10</td>\n",
              "      <td>72120.000000</td>\n",
              "      <td>77.000000</td>\n",
              "      <td>47.000000</td>\n",
              "    </tr>\n",
              "  </tbody>\n",
              "</table>\n",
              "</div>"
            ],
            "text/plain": [
              "       pickup_community_area  ...          tips\n",
              "count           15000.000000  ...  15002.000000\n",
              "mean               22.250267  ...      1.076674\n",
              "std                19.414828  ...      2.158340\n",
              "min                 1.000000  ...      0.000000\n",
              "25%                 8.000000  ...      0.000000\n",
              "50%                 8.000000  ...      0.000000\n",
              "75%                32.000000  ...      2.000000\n",
              "max                77.000000  ...     47.000000\n",
              "\n",
              "[8 rows x 16 columns]"
            ]
          },
          "metadata": {
            "tags": []
          },
          "execution_count": 11
        }
      ]
    },
    {
      "cell_type": "code",
      "metadata": {
        "colab": {
          "base_uri": "https://localhost:8080/"
        },
        "id": "YOrxTK8oIfMK",
        "outputId": "ac5fa042-4e8b-4c6f-b840-527e64898df1"
      },
      "source": [
        "##Get unique count for each column\n",
        "taxi_data.nunique()"
      ],
      "execution_count": 12,
      "outputs": [
        {
          "output_type": "execute_result",
          "data": {
            "text/plain": [
              "pickup_community_area        62\n",
              "fare                        423\n",
              "trip_start_month             12\n",
              "trip_start_hour              24\n",
              "trip_start_day                7\n",
              "trip_start_timestamp      13789\n",
              "pickup_latitude             236\n",
              "pickup_longitude            236\n",
              "dropoff_latitude            291\n",
              "dropoff_longitude           291\n",
              "trip_miles                  530\n",
              "pickup_census_tract           1\n",
              "dropoff_census_tract        229\n",
              "payment_type                  7\n",
              "company                      61\n",
              "trip_seconds                110\n",
              "dropoff_community_area       69\n",
              "tips                        462\n",
              "dtype: int64"
            ]
          },
          "metadata": {
            "tags": []
          },
          "execution_count": 12
        }
      ]
    },
    {
      "cell_type": "code",
      "metadata": {
        "colab": {
          "base_uri": "https://localhost:8080/"
        },
        "id": "6EPAjynlIsts",
        "outputId": "34f2c309-ef57-46b4-d51e-bb2b40a6a36a"
      },
      "source": [
        "taxi_data = taxi_data.drop(['trip_start_timestamp','trip_miles','pickup_census_tract','dropoff_census_tract','trip_seconds','payment_type','tips', \n",
        "              'company','dropoff_community_area','pickup_community_area'], axis=1)\n",
        "taxi_data.info()"
      ],
      "execution_count": 13,
      "outputs": [
        {
          "output_type": "stream",
          "text": [
            "<class 'pandas.core.frame.DataFrame'>\n",
            "RangeIndex: 15002 entries, 0 to 15001\n",
            "Data columns (total 8 columns):\n",
            " #   Column             Non-Null Count  Dtype  \n",
            "---  ------             --------------  -----  \n",
            " 0   fare               15002 non-null  float64\n",
            " 1   trip_start_month   15002 non-null  int64  \n",
            " 2   trip_start_hour    15002 non-null  int64  \n",
            " 3   trip_start_day     15002 non-null  int64  \n",
            " 4   pickup_latitude    15000 non-null  float64\n",
            " 5   pickup_longitude   15000 non-null  float64\n",
            " 6   dropoff_latitude   14519 non-null  float64\n",
            " 7   dropoff_longitude  14519 non-null  float64\n",
            "dtypes: float64(5), int64(3)\n",
            "memory usage: 937.8 KB\n"
          ],
          "name": "stdout"
        }
      ]
    },
    {
      "cell_type": "code",
      "metadata": {
        "colab": {
          "base_uri": "https://localhost:8080/"
        },
        "id": "nWLW9TsnJk2o",
        "outputId": "c3bbf541-93a0-46bc-caa9-82602026b18a"
      },
      "source": [
        "#Drop rows with N/A \n",
        "taxi_data = taxi_data.dropna()\n",
        "\n",
        "#Drop the rows where FARE > 200( only 1 row found )\n",
        "taxi_data = taxi_data.drop(taxi_data[taxi_data['fare'] > 200].index)\n",
        "\n",
        "#Change the datatype of month, hour day feature to string \n",
        "taxi_data['trip_start_month'] = taxi_data['trip_start_month'].astype('str')\n",
        "taxi_data['trip_start_hour'] = taxi_data['trip_start_hour'].astype('str')\n",
        "taxi_data['trip_start_day'] = taxi_data['trip_start_day'].astype('str')\n",
        "taxi_data.info()"
      ],
      "execution_count": 14,
      "outputs": [
        {
          "output_type": "stream",
          "text": [
            "<class 'pandas.core.frame.DataFrame'>\n",
            "Int64Index: 14518 entries, 28 to 15000\n",
            "Data columns (total 8 columns):\n",
            " #   Column             Non-Null Count  Dtype  \n",
            "---  ------             --------------  -----  \n",
            " 0   fare               14518 non-null  float64\n",
            " 1   trip_start_month   14518 non-null  object \n",
            " 2   trip_start_hour    14518 non-null  object \n",
            " 3   trip_start_day     14518 non-null  object \n",
            " 4   pickup_latitude    14518 non-null  float64\n",
            " 5   pickup_longitude   14518 non-null  float64\n",
            " 6   dropoff_latitude   14518 non-null  float64\n",
            " 7   dropoff_longitude  14518 non-null  float64\n",
            "dtypes: float64(5), object(3)\n",
            "memory usage: 1020.8+ KB\n"
          ],
          "name": "stdout"
        }
      ]
    },
    {
      "cell_type": "markdown",
      "metadata": {
        "id": "TSUcjHCsKLsE"
      },
      "source": [
        "Prepare Train test split sample from Original Taxi dataset"
      ]
    },
    {
      "cell_type": "code",
      "metadata": {
        "colab": {
          "base_uri": "https://localhost:8080/"
        },
        "id": "MqTg4bbRKFpz",
        "outputId": "bb95e7b6-5384-4d22-cb8f-a4925fdbcc48"
      },
      "source": [
        "np.random.seed(seed=2)\n",
        "sample = np.random.rand(len(taxi_data)) < 0.9\n",
        "traindf = taxi_data[sample]\n",
        "testdf = taxi_data[~sample]\n",
        "\n",
        "print(len(traindf))\n",
        "print(len(testdf))\n",
        "\n",
        "traindf.to_csv(\"train.csv\", index=False, header=True)\n",
        "testdf.to_csv(\"test.csv\", index=False, header=True)"
      ],
      "execution_count": 15,
      "outputs": [
        {
          "output_type": "stream",
          "text": [
            "13076\n",
            "1442\n"
          ],
          "name": "stdout"
        }
      ]
    },
    {
      "cell_type": "code",
      "metadata": {
        "id": "cyHeROFosneb"
      },
      "source": [
        "train_X = pd.read_csv('/content/train.csv')\n",
        "test_X = pd.read_csv('/content/test.csv')"
      ],
      "execution_count": 16,
      "outputs": []
    },
    {
      "cell_type": "markdown",
      "metadata": {
        "id": "0QpuaZiccfXQ"
      },
      "source": [
        "Feature Engineering:"
      ]
    },
    {
      "cell_type": "markdown",
      "metadata": {
        "id": "bRuoO0Ccns4f"
      },
      "source": [
        "Distance Computation Using Latitude and Longitude Between 2 sets of GPS coordinates in taxi data"
      ]
    },
    {
      "cell_type": "code",
      "metadata": {
        "id": "p5jB76dMnzJZ"
      },
      "source": [
        "# Calculate the Distance\n",
        "def haversine_distance(df, lat1, long1, lat2, long2):\n",
        "\n",
        "    r = 6371  # average radius of Earth in kilometers\n",
        "       \n",
        "    pi_1 = np.radians(df[lat1])\n",
        "    pi_2 = np.radians(df[lat2])\n",
        "    \n",
        "    delta_pi = np.radians(df[lat2]-df[lat1])\n",
        "    delta_lambda = np.radians(df[long2]-df[long1])\n",
        "     \n",
        "    a = np.sin(delta_pi/2)**2 + np.cos(pi_1) * np.cos(pi_2) * np.sin(delta_lambda/2)**2\n",
        "    c = 2 * np.arctan2(np.sqrt(a), np.sqrt(1-a))\n",
        "    d = (r * c) # in kilometers\n",
        "\n",
        "    return d"
      ],
      "execution_count": 17,
      "outputs": []
    },
    {
      "cell_type": "code",
      "metadata": {
        "colab": {
          "base_uri": "https://localhost:8080/",
          "height": 204
        },
        "id": "9PCSbQGXtKI7",
        "outputId": "84e3a878-d2db-47d0-c22a-35f7b46e1715"
      },
      "source": [
        "train_X.head()"
      ],
      "execution_count": 18,
      "outputs": [
        {
          "output_type": "execute_result",
          "data": {
            "text/html": [
              "<div>\n",
              "<style scoped>\n",
              "    .dataframe tbody tr th:only-of-type {\n",
              "        vertical-align: middle;\n",
              "    }\n",
              "\n",
              "    .dataframe tbody tr th {\n",
              "        vertical-align: top;\n",
              "    }\n",
              "\n",
              "    .dataframe thead th {\n",
              "        text-align: right;\n",
              "    }\n",
              "</style>\n",
              "<table border=\"1\" class=\"dataframe\">\n",
              "  <thead>\n",
              "    <tr style=\"text-align: right;\">\n",
              "      <th></th>\n",
              "      <th>fare</th>\n",
              "      <th>trip_start_month</th>\n",
              "      <th>trip_start_hour</th>\n",
              "      <th>trip_start_day</th>\n",
              "      <th>pickup_latitude</th>\n",
              "      <th>pickup_longitude</th>\n",
              "      <th>dropoff_latitude</th>\n",
              "      <th>dropoff_longitude</th>\n",
              "    </tr>\n",
              "  </thead>\n",
              "  <tbody>\n",
              "    <tr>\n",
              "      <th>0</th>\n",
              "      <td>12.25</td>\n",
              "      <td>10</td>\n",
              "      <td>1</td>\n",
              "      <td>1</td>\n",
              "      <td>41.952823</td>\n",
              "      <td>-87.653244</td>\n",
              "      <td>41.920452</td>\n",
              "      <td>-87.679955</td>\n",
              "    </tr>\n",
              "    <tr>\n",
              "      <th>1</th>\n",
              "      <td>3.85</td>\n",
              "      <td>3</td>\n",
              "      <td>15</td>\n",
              "      <td>6</td>\n",
              "      <td>41.899670</td>\n",
              "      <td>-87.669838</td>\n",
              "      <td>41.920452</td>\n",
              "      <td>-87.679955</td>\n",
              "    </tr>\n",
              "    <tr>\n",
              "      <th>2</th>\n",
              "      <td>6.05</td>\n",
              "      <td>8</td>\n",
              "      <td>23</td>\n",
              "      <td>5</td>\n",
              "      <td>41.906026</td>\n",
              "      <td>-87.675312</td>\n",
              "      <td>41.920452</td>\n",
              "      <td>-87.679955</td>\n",
              "    </tr>\n",
              "    <tr>\n",
              "      <th>3</th>\n",
              "      <td>7.25</td>\n",
              "      <td>10</td>\n",
              "      <td>21</td>\n",
              "      <td>7</td>\n",
              "      <td>41.906651</td>\n",
              "      <td>-87.665338</td>\n",
              "      <td>41.920452</td>\n",
              "      <td>-87.679955</td>\n",
              "    </tr>\n",
              "    <tr>\n",
              "      <th>4</th>\n",
              "      <td>7.85</td>\n",
              "      <td>11</td>\n",
              "      <td>11</td>\n",
              "      <td>2</td>\n",
              "      <td>41.871016</td>\n",
              "      <td>-87.631407</td>\n",
              "      <td>41.849247</td>\n",
              "      <td>-87.624135</td>\n",
              "    </tr>\n",
              "  </tbody>\n",
              "</table>\n",
              "</div>"
            ],
            "text/plain": [
              "    fare  trip_start_month  ...  dropoff_latitude  dropoff_longitude\n",
              "0  12.25                10  ...         41.920452         -87.679955\n",
              "1   3.85                 3  ...         41.920452         -87.679955\n",
              "2   6.05                 8  ...         41.920452         -87.679955\n",
              "3   7.25                10  ...         41.920452         -87.679955\n",
              "4   7.85                11  ...         41.849247         -87.624135\n",
              "\n",
              "[5 rows x 8 columns]"
            ]
          },
          "metadata": {
            "tags": []
          },
          "execution_count": 18
        }
      ]
    },
    {
      "cell_type": "code",
      "metadata": {
        "colab": {
          "base_uri": "https://localhost:8080/",
          "height": 204
        },
        "id": "J71M4gCZttKi",
        "outputId": "f5ba4e4a-afac-451e-f954-d1d332184c7f"
      },
      "source": [
        "test_X.head()"
      ],
      "execution_count": 19,
      "outputs": [
        {
          "output_type": "execute_result",
          "data": {
            "text/html": [
              "<div>\n",
              "<style scoped>\n",
              "    .dataframe tbody tr th:only-of-type {\n",
              "        vertical-align: middle;\n",
              "    }\n",
              "\n",
              "    .dataframe tbody tr th {\n",
              "        vertical-align: top;\n",
              "    }\n",
              "\n",
              "    .dataframe thead th {\n",
              "        text-align: right;\n",
              "    }\n",
              "</style>\n",
              "<table border=\"1\" class=\"dataframe\">\n",
              "  <thead>\n",
              "    <tr style=\"text-align: right;\">\n",
              "      <th></th>\n",
              "      <th>fare</th>\n",
              "      <th>trip_start_month</th>\n",
              "      <th>trip_start_hour</th>\n",
              "      <th>trip_start_day</th>\n",
              "      <th>pickup_latitude</th>\n",
              "      <th>pickup_longitude</th>\n",
              "      <th>dropoff_latitude</th>\n",
              "      <th>dropoff_longitude</th>\n",
              "    </tr>\n",
              "  </thead>\n",
              "  <tbody>\n",
              "    <tr>\n",
              "      <th>0</th>\n",
              "      <td>9.05</td>\n",
              "      <td>2</td>\n",
              "      <td>21</td>\n",
              "      <td>2</td>\n",
              "      <td>41.928619</td>\n",
              "      <td>-87.685362</td>\n",
              "      <td>41.957736</td>\n",
              "      <td>-87.683718</td>\n",
              "    </tr>\n",
              "    <tr>\n",
              "      <th>1</th>\n",
              "      <td>9.65</td>\n",
              "      <td>4</td>\n",
              "      <td>1</td>\n",
              "      <td>2</td>\n",
              "      <td>41.906026</td>\n",
              "      <td>-87.675312</td>\n",
              "      <td>41.892042</td>\n",
              "      <td>-87.631864</td>\n",
              "    </tr>\n",
              "    <tr>\n",
              "      <th>2</th>\n",
              "      <td>5.85</td>\n",
              "      <td>1</td>\n",
              "      <td>22</td>\n",
              "      <td>5</td>\n",
              "      <td>41.892658</td>\n",
              "      <td>-87.652534</td>\n",
              "      <td>41.892042</td>\n",
              "      <td>-87.631864</td>\n",
              "    </tr>\n",
              "    <tr>\n",
              "      <th>3</th>\n",
              "      <td>10.65</td>\n",
              "      <td>6</td>\n",
              "      <td>18</td>\n",
              "      <td>6</td>\n",
              "      <td>41.929078</td>\n",
              "      <td>-87.646293</td>\n",
              "      <td>41.892042</td>\n",
              "      <td>-87.631864</td>\n",
              "    </tr>\n",
              "    <tr>\n",
              "      <th>4</th>\n",
              "      <td>17.64</td>\n",
              "      <td>6</td>\n",
              "      <td>8</td>\n",
              "      <td>2</td>\n",
              "      <td>41.953582</td>\n",
              "      <td>-87.723452</td>\n",
              "      <td>41.878866</td>\n",
              "      <td>-87.625192</td>\n",
              "    </tr>\n",
              "  </tbody>\n",
              "</table>\n",
              "</div>"
            ],
            "text/plain": [
              "    fare  trip_start_month  ...  dropoff_latitude  dropoff_longitude\n",
              "0   9.05                 2  ...         41.957736         -87.683718\n",
              "1   9.65                 4  ...         41.892042         -87.631864\n",
              "2   5.85                 1  ...         41.892042         -87.631864\n",
              "3  10.65                 6  ...         41.892042         -87.631864\n",
              "4  17.64                 6  ...         41.878866         -87.625192\n",
              "\n",
              "[5 rows x 8 columns]"
            ]
          },
          "metadata": {
            "tags": []
          },
          "execution_count": 19
        }
      ]
    },
    {
      "cell_type": "code",
      "metadata": {
        "colab": {
          "base_uri": "https://localhost:8080/"
        },
        "id": "XnkM-mJhrfiR",
        "outputId": "e434b8f9-66e7-4ea0-a260-5bc8a6c940fe"
      },
      "source": [
        "Y = np.log(train_X.fare)"
      ],
      "execution_count": 20,
      "outputs": [
        {
          "output_type": "stream",
          "text": [
            "/usr/local/lib/python3.7/dist-packages/pandas/core/series.py:726: RuntimeWarning:\n",
            "\n",
            "divide by zero encountered in log\n",
            "\n"
          ],
          "name": "stderr"
        }
      ]
    },
    {
      "cell_type": "code",
      "metadata": {
        "colab": {
          "base_uri": "https://localhost:8080/"
        },
        "id": "RD_naW8djIvL",
        "outputId": "e3442bae-0d57-4449-ba6c-a324401a8200"
      },
      "source": [
        "Y"
      ],
      "execution_count": 21,
      "outputs": [
        {
          "output_type": "execute_result",
          "data": {
            "text/plain": [
              "0        2.505526\n",
              "1        1.348073\n",
              "2        1.800058\n",
              "3        1.981001\n",
              "4        2.060514\n",
              "           ...   \n",
              "13071    1.238374\n",
              "13072    1.178655\n",
              "13073    1.178655\n",
              "13074    1.446919\n",
              "13075    2.287471\n",
              "Name: fare, Length: 13076, dtype: float64"
            ]
          },
          "metadata": {
            "tags": []
          },
          "execution_count": 21
        }
      ]
    },
    {
      "cell_type": "code",
      "metadata": {
        "id": "qcLfTOB9vHc-"
      },
      "source": [
        "df = train_X.append(test_X,sort=False)"
      ],
      "execution_count": 22,
      "outputs": []
    },
    {
      "cell_type": "code",
      "metadata": {
        "colab": {
          "base_uri": "https://localhost:8080/",
          "height": 204
        },
        "id": "G3OfpJ-6u9OI",
        "outputId": "f66d5dd4-3851-405a-ee10-8d8ecdf38b0d"
      },
      "source": [
        "# Using Havesian distance instead of Euclidean distance\n",
        "df['dist_km'] = haversine_distance(df,'pickup_latitude', 'pickup_longitude', 'dropoff_latitude', 'dropoff_longitude')\n",
        "df.head()"
      ],
      "execution_count": 23,
      "outputs": [
        {
          "output_type": "execute_result",
          "data": {
            "text/html": [
              "<div>\n",
              "<style scoped>\n",
              "    .dataframe tbody tr th:only-of-type {\n",
              "        vertical-align: middle;\n",
              "    }\n",
              "\n",
              "    .dataframe tbody tr th {\n",
              "        vertical-align: top;\n",
              "    }\n",
              "\n",
              "    .dataframe thead th {\n",
              "        text-align: right;\n",
              "    }\n",
              "</style>\n",
              "<table border=\"1\" class=\"dataframe\">\n",
              "  <thead>\n",
              "    <tr style=\"text-align: right;\">\n",
              "      <th></th>\n",
              "      <th>fare</th>\n",
              "      <th>trip_start_month</th>\n",
              "      <th>trip_start_hour</th>\n",
              "      <th>trip_start_day</th>\n",
              "      <th>pickup_latitude</th>\n",
              "      <th>pickup_longitude</th>\n",
              "      <th>dropoff_latitude</th>\n",
              "      <th>dropoff_longitude</th>\n",
              "      <th>dist_km</th>\n",
              "    </tr>\n",
              "  </thead>\n",
              "  <tbody>\n",
              "    <tr>\n",
              "      <th>0</th>\n",
              "      <td>12.25</td>\n",
              "      <td>10</td>\n",
              "      <td>1</td>\n",
              "      <td>1</td>\n",
              "      <td>41.952823</td>\n",
              "      <td>-87.653244</td>\n",
              "      <td>41.920452</td>\n",
              "      <td>-87.679955</td>\n",
              "      <td>4.223525</td>\n",
              "    </tr>\n",
              "    <tr>\n",
              "      <th>1</th>\n",
              "      <td>3.85</td>\n",
              "      <td>3</td>\n",
              "      <td>15</td>\n",
              "      <td>6</td>\n",
              "      <td>41.899670</td>\n",
              "      <td>-87.669838</td>\n",
              "      <td>41.920452</td>\n",
              "      <td>-87.679955</td>\n",
              "      <td>2.457759</td>\n",
              "    </tr>\n",
              "    <tr>\n",
              "      <th>2</th>\n",
              "      <td>6.05</td>\n",
              "      <td>8</td>\n",
              "      <td>23</td>\n",
              "      <td>5</td>\n",
              "      <td>41.906026</td>\n",
              "      <td>-87.675312</td>\n",
              "      <td>41.920452</td>\n",
              "      <td>-87.679955</td>\n",
              "      <td>1.649418</td>\n",
              "    </tr>\n",
              "    <tr>\n",
              "      <th>3</th>\n",
              "      <td>7.25</td>\n",
              "      <td>10</td>\n",
              "      <td>21</td>\n",
              "      <td>7</td>\n",
              "      <td>41.906651</td>\n",
              "      <td>-87.665338</td>\n",
              "      <td>41.920452</td>\n",
              "      <td>-87.679955</td>\n",
              "      <td>1.953926</td>\n",
              "    </tr>\n",
              "    <tr>\n",
              "      <th>4</th>\n",
              "      <td>7.85</td>\n",
              "      <td>11</td>\n",
              "      <td>11</td>\n",
              "      <td>2</td>\n",
              "      <td>41.871016</td>\n",
              "      <td>-87.631407</td>\n",
              "      <td>41.849247</td>\n",
              "      <td>-87.624135</td>\n",
              "      <td>2.494392</td>\n",
              "    </tr>\n",
              "  </tbody>\n",
              "</table>\n",
              "</div>"
            ],
            "text/plain": [
              "    fare  trip_start_month  ...  dropoff_longitude   dist_km\n",
              "0  12.25                10  ...         -87.679955  4.223525\n",
              "1   3.85                 3  ...         -87.679955  2.457759\n",
              "2   6.05                 8  ...         -87.679955  1.649418\n",
              "3   7.25                10  ...         -87.679955  1.953926\n",
              "4   7.85                11  ...         -87.624135  2.494392\n",
              "\n",
              "[5 rows x 9 columns]"
            ]
          },
          "metadata": {
            "tags": []
          },
          "execution_count": 23
        }
      ]
    },
    {
      "cell_type": "code",
      "metadata": {
        "id": "v8X1zUZWfzD6"
      },
      "source": [
        "train_X = df.drop(columns=['fare'])"
      ],
      "execution_count": 24,
      "outputs": []
    },
    {
      "cell_type": "code",
      "metadata": {
        "colab": {
          "base_uri": "https://localhost:8080/",
          "height": 419
        },
        "id": "sPq1qhiMf87h",
        "outputId": "b075d97c-45ab-4156-d0ea-3abf88c51a9c"
      },
      "source": [
        "train_X"
      ],
      "execution_count": 25,
      "outputs": [
        {
          "output_type": "execute_result",
          "data": {
            "text/html": [
              "<div>\n",
              "<style scoped>\n",
              "    .dataframe tbody tr th:only-of-type {\n",
              "        vertical-align: middle;\n",
              "    }\n",
              "\n",
              "    .dataframe tbody tr th {\n",
              "        vertical-align: top;\n",
              "    }\n",
              "\n",
              "    .dataframe thead th {\n",
              "        text-align: right;\n",
              "    }\n",
              "</style>\n",
              "<table border=\"1\" class=\"dataframe\">\n",
              "  <thead>\n",
              "    <tr style=\"text-align: right;\">\n",
              "      <th></th>\n",
              "      <th>trip_start_month</th>\n",
              "      <th>trip_start_hour</th>\n",
              "      <th>trip_start_day</th>\n",
              "      <th>pickup_latitude</th>\n",
              "      <th>pickup_longitude</th>\n",
              "      <th>dropoff_latitude</th>\n",
              "      <th>dropoff_longitude</th>\n",
              "      <th>dist_km</th>\n",
              "    </tr>\n",
              "  </thead>\n",
              "  <tbody>\n",
              "    <tr>\n",
              "      <th>0</th>\n",
              "      <td>10</td>\n",
              "      <td>1</td>\n",
              "      <td>1</td>\n",
              "      <td>41.952823</td>\n",
              "      <td>-87.653244</td>\n",
              "      <td>41.920452</td>\n",
              "      <td>-87.679955</td>\n",
              "      <td>4.223525</td>\n",
              "    </tr>\n",
              "    <tr>\n",
              "      <th>1</th>\n",
              "      <td>3</td>\n",
              "      <td>15</td>\n",
              "      <td>6</td>\n",
              "      <td>41.899670</td>\n",
              "      <td>-87.669838</td>\n",
              "      <td>41.920452</td>\n",
              "      <td>-87.679955</td>\n",
              "      <td>2.457759</td>\n",
              "    </tr>\n",
              "    <tr>\n",
              "      <th>2</th>\n",
              "      <td>8</td>\n",
              "      <td>23</td>\n",
              "      <td>5</td>\n",
              "      <td>41.906026</td>\n",
              "      <td>-87.675312</td>\n",
              "      <td>41.920452</td>\n",
              "      <td>-87.679955</td>\n",
              "      <td>1.649418</td>\n",
              "    </tr>\n",
              "    <tr>\n",
              "      <th>3</th>\n",
              "      <td>10</td>\n",
              "      <td>21</td>\n",
              "      <td>7</td>\n",
              "      <td>41.906651</td>\n",
              "      <td>-87.665338</td>\n",
              "      <td>41.920452</td>\n",
              "      <td>-87.679955</td>\n",
              "      <td>1.953926</td>\n",
              "    </tr>\n",
              "    <tr>\n",
              "      <th>4</th>\n",
              "      <td>11</td>\n",
              "      <td>11</td>\n",
              "      <td>2</td>\n",
              "      <td>41.871016</td>\n",
              "      <td>-87.631407</td>\n",
              "      <td>41.849247</td>\n",
              "      <td>-87.624135</td>\n",
              "      <td>2.494392</td>\n",
              "    </tr>\n",
              "    <tr>\n",
              "      <th>...</th>\n",
              "      <td>...</td>\n",
              "      <td>...</td>\n",
              "      <td>...</td>\n",
              "      <td>...</td>\n",
              "      <td>...</td>\n",
              "      <td>...</td>\n",
              "      <td>...</td>\n",
              "      <td>...</td>\n",
              "    </tr>\n",
              "    <tr>\n",
              "      <th>1437</th>\n",
              "      <td>11</td>\n",
              "      <td>13</td>\n",
              "      <td>1</td>\n",
              "      <td>41.904935</td>\n",
              "      <td>-87.649907</td>\n",
              "      <td>41.892073</td>\n",
              "      <td>-87.628874</td>\n",
              "      <td>2.253018</td>\n",
              "    </tr>\n",
              "    <tr>\n",
              "      <th>1438</th>\n",
              "      <td>3</td>\n",
              "      <td>3</td>\n",
              "      <td>1</td>\n",
              "      <td>41.904935</td>\n",
              "      <td>-87.649907</td>\n",
              "      <td>41.942585</td>\n",
              "      <td>-87.656644</td>\n",
              "      <td>4.223414</td>\n",
              "    </tr>\n",
              "    <tr>\n",
              "      <th>1439</th>\n",
              "      <td>4</td>\n",
              "      <td>20</td>\n",
              "      <td>4</td>\n",
              "      <td>41.904935</td>\n",
              "      <td>-87.649907</td>\n",
              "      <td>41.863423</td>\n",
              "      <td>-87.653757</td>\n",
              "      <td>4.626979</td>\n",
              "    </tr>\n",
              "    <tr>\n",
              "      <th>1440</th>\n",
              "      <td>4</td>\n",
              "      <td>1</td>\n",
              "      <td>1</td>\n",
              "      <td>41.904935</td>\n",
              "      <td>-87.649907</td>\n",
              "      <td>41.907492</td>\n",
              "      <td>-87.635760</td>\n",
              "      <td>1.204776</td>\n",
              "    </tr>\n",
              "    <tr>\n",
              "      <th>1441</th>\n",
              "      <td>10</td>\n",
              "      <td>9</td>\n",
              "      <td>4</td>\n",
              "      <td>41.904935</td>\n",
              "      <td>-87.649907</td>\n",
              "      <td>41.867902</td>\n",
              "      <td>-87.642959</td>\n",
              "      <td>4.157849</td>\n",
              "    </tr>\n",
              "  </tbody>\n",
              "</table>\n",
              "<p>14518 rows × 8 columns</p>\n",
              "</div>"
            ],
            "text/plain": [
              "      trip_start_month  trip_start_hour  ...  dropoff_longitude   dist_km\n",
              "0                   10                1  ...         -87.679955  4.223525\n",
              "1                    3               15  ...         -87.679955  2.457759\n",
              "2                    8               23  ...         -87.679955  1.649418\n",
              "3                   10               21  ...         -87.679955  1.953926\n",
              "4                   11               11  ...         -87.624135  2.494392\n",
              "...                ...              ...  ...                ...       ...\n",
              "1437                11               13  ...         -87.628874  2.253018\n",
              "1438                 3                3  ...         -87.656644  4.223414\n",
              "1439                 4               20  ...         -87.653757  4.626979\n",
              "1440                 4                1  ...         -87.635760  1.204776\n",
              "1441                10                9  ...         -87.642959  4.157849\n",
              "\n",
              "[14518 rows x 8 columns]"
            ]
          },
          "metadata": {
            "tags": []
          },
          "execution_count": 25
        }
      ]
    },
    {
      "cell_type": "markdown",
      "metadata": {
        "id": "eY5Yza78oMlh"
      },
      "source": [
        "Prepare the Dataset for PyTorch DataLoader"
      ]
    },
    {
      "cell_type": "code",
      "metadata": {
        "id": "G0nTqM1tnxwX"
      },
      "source": [
        "cat_cols = ['trip_start_month', 'trip_start_hour', 'trip_start_day']\n",
        "cont_cols = ['pickup_latitude', 'pickup_longitude', 'dropoff_latitude', 'dropoff_longitude', 'dist_km']"
      ],
      "execution_count": 26,
      "outputs": []
    },
    {
      "cell_type": "code",
      "metadata": {
        "id": "JoWtg2DCoqV5"
      },
      "source": [
        "#make the cat categories as \"category\" and label encoder it.\n",
        "for col in df.columns:\n",
        "  if col in cat_cols:\n",
        "    df[col] = LabelEncoder().fit_transform(df[col])\n",
        "    df[col]= df[col].astype('category')"
      ],
      "execution_count": 27,
      "outputs": []
    },
    {
      "cell_type": "code",
      "metadata": {
        "colab": {
          "base_uri": "https://localhost:8080/",
          "height": 204
        },
        "id": "uWzedHuCor7x",
        "outputId": "e1599ec6-74c7-4e0d-ddcb-da1e36e319eb"
      },
      "source": [
        "df.head()"
      ],
      "execution_count": 28,
      "outputs": [
        {
          "output_type": "execute_result",
          "data": {
            "text/html": [
              "<div>\n",
              "<style scoped>\n",
              "    .dataframe tbody tr th:only-of-type {\n",
              "        vertical-align: middle;\n",
              "    }\n",
              "\n",
              "    .dataframe tbody tr th {\n",
              "        vertical-align: top;\n",
              "    }\n",
              "\n",
              "    .dataframe thead th {\n",
              "        text-align: right;\n",
              "    }\n",
              "</style>\n",
              "<table border=\"1\" class=\"dataframe\">\n",
              "  <thead>\n",
              "    <tr style=\"text-align: right;\">\n",
              "      <th></th>\n",
              "      <th>fare</th>\n",
              "      <th>trip_start_month</th>\n",
              "      <th>trip_start_hour</th>\n",
              "      <th>trip_start_day</th>\n",
              "      <th>pickup_latitude</th>\n",
              "      <th>pickup_longitude</th>\n",
              "      <th>dropoff_latitude</th>\n",
              "      <th>dropoff_longitude</th>\n",
              "      <th>dist_km</th>\n",
              "    </tr>\n",
              "  </thead>\n",
              "  <tbody>\n",
              "    <tr>\n",
              "      <th>0</th>\n",
              "      <td>12.25</td>\n",
              "      <td>9</td>\n",
              "      <td>1</td>\n",
              "      <td>0</td>\n",
              "      <td>41.952823</td>\n",
              "      <td>-87.653244</td>\n",
              "      <td>41.920452</td>\n",
              "      <td>-87.679955</td>\n",
              "      <td>4.223525</td>\n",
              "    </tr>\n",
              "    <tr>\n",
              "      <th>1</th>\n",
              "      <td>3.85</td>\n",
              "      <td>2</td>\n",
              "      <td>15</td>\n",
              "      <td>5</td>\n",
              "      <td>41.899670</td>\n",
              "      <td>-87.669838</td>\n",
              "      <td>41.920452</td>\n",
              "      <td>-87.679955</td>\n",
              "      <td>2.457759</td>\n",
              "    </tr>\n",
              "    <tr>\n",
              "      <th>2</th>\n",
              "      <td>6.05</td>\n",
              "      <td>7</td>\n",
              "      <td>23</td>\n",
              "      <td>4</td>\n",
              "      <td>41.906026</td>\n",
              "      <td>-87.675312</td>\n",
              "      <td>41.920452</td>\n",
              "      <td>-87.679955</td>\n",
              "      <td>1.649418</td>\n",
              "    </tr>\n",
              "    <tr>\n",
              "      <th>3</th>\n",
              "      <td>7.25</td>\n",
              "      <td>9</td>\n",
              "      <td>21</td>\n",
              "      <td>6</td>\n",
              "      <td>41.906651</td>\n",
              "      <td>-87.665338</td>\n",
              "      <td>41.920452</td>\n",
              "      <td>-87.679955</td>\n",
              "      <td>1.953926</td>\n",
              "    </tr>\n",
              "    <tr>\n",
              "      <th>4</th>\n",
              "      <td>7.85</td>\n",
              "      <td>10</td>\n",
              "      <td>11</td>\n",
              "      <td>1</td>\n",
              "      <td>41.871016</td>\n",
              "      <td>-87.631407</td>\n",
              "      <td>41.849247</td>\n",
              "      <td>-87.624135</td>\n",
              "      <td>2.494392</td>\n",
              "    </tr>\n",
              "  </tbody>\n",
              "</table>\n",
              "</div>"
            ],
            "text/plain": [
              "    fare trip_start_month  ... dropoff_longitude   dist_km\n",
              "0  12.25                9  ...        -87.679955  4.223525\n",
              "1   3.85                2  ...        -87.679955  2.457759\n",
              "2   6.05                7  ...        -87.679955  1.649418\n",
              "3   7.25                9  ...        -87.679955  1.953926\n",
              "4   7.85               10  ...        -87.624135  2.494392\n",
              "\n",
              "[5 rows x 9 columns]"
            ]
          },
          "metadata": {
            "tags": []
          },
          "execution_count": 28
        }
      ]
    },
    {
      "cell_type": "code",
      "metadata": {
        "colab": {
          "base_uri": "https://localhost:8080/"
        },
        "id": "X7keZBdeo4Fn",
        "outputId": "237a8200-cc0b-4432-98c5-af5e61b647a5"
      },
      "source": [
        "df.info()"
      ],
      "execution_count": 29,
      "outputs": [
        {
          "output_type": "stream",
          "text": [
            "<class 'pandas.core.frame.DataFrame'>\n",
            "Int64Index: 14518 entries, 0 to 1441\n",
            "Data columns (total 9 columns):\n",
            " #   Column             Non-Null Count  Dtype   \n",
            "---  ------             --------------  -----   \n",
            " 0   fare               14518 non-null  float64 \n",
            " 1   trip_start_month   14518 non-null  category\n",
            " 2   trip_start_hour    14518 non-null  category\n",
            " 3   trip_start_day     14518 non-null  category\n",
            " 4   pickup_latitude    14518 non-null  float64 \n",
            " 5   pickup_longitude   14518 non-null  float64 \n",
            " 6   dropoff_latitude   14518 non-null  float64 \n",
            " 7   dropoff_longitude  14518 non-null  float64 \n",
            " 8   dist_km            14518 non-null  float64 \n",
            "dtypes: category(3), float64(6)\n",
            "memory usage: 838.1 KB\n"
          ],
          "name": "stdout"
        }
      ]
    },
    {
      "cell_type": "code",
      "metadata": {
        "id": "mI5PxV2VpqO4"
      },
      "source": [
        "df_train = df[:13076]\n",
        "df_test = df[13076:]"
      ],
      "execution_count": 29,
      "outputs": []
    },
    {
      "cell_type": "code",
      "metadata": {
        "colab": {
          "base_uri": "https://localhost:8080/"
        },
        "id": "NcYSDE1rp1uy",
        "outputId": "c064d764-e5e4-4441-e98d-70c447f4f123"
      },
      "source": [
        "# Normalizing \n",
        "\n",
        "from pandas.api.types import is_numeric_dtype\n",
        "\n",
        "#\"Compute the means and stds of `self.cont_names` columns to normalize them.\"\n",
        "def Normalize(df):\n",
        "  means,stds = {},{}\n",
        "  cont_names = ['pickup_latitude', 'pickup_longitude', 'dropoff_latitude', 'dropoff_longitude','dist_km']\n",
        "  for n in cont_names:\n",
        "    assert is_numeric_dtype(df[n]), (f\"\"\"Cannot normalize '{n}' column as it isn't numerical. Are you sure it doesn't belong in the categorical set of columns?\"\"\")\n",
        "    means[n],stds[n] = df[n].mean(),df[n].std()\n",
        "    df[n] = (df[n]-means[n]) / (1e-7 + stds[n])\n",
        "\n",
        "\n",
        "Normalize(df_train)\n",
        "Normalize(df_test)\n",
        "X = df_train"
      ],
      "execution_count": 30,
      "outputs": [
        {
          "output_type": "stream",
          "text": [
            "/usr/local/lib/python3.7/dist-packages/ipykernel_launcher.py:12: SettingWithCopyWarning:\n",
            "\n",
            "\n",
            "A value is trying to be set on a copy of a slice from a DataFrame.\n",
            "Try using .loc[row_indexer,col_indexer] = value instead\n",
            "\n",
            "See the caveats in the documentation: https://pandas.pydata.org/pandas-docs/stable/user_guide/indexing.html#returning-a-view-versus-a-copy\n",
            "\n"
          ],
          "name": "stderr"
        }
      ]
    },
    {
      "cell_type": "markdown",
      "metadata": {
        "id": "Le16w_yNEA9q"
      },
      "source": [
        "Make Sure all the shape size are all the same"
      ]
    },
    {
      "cell_type": "code",
      "metadata": {
        "id": "68A2ofy7p-bR"
      },
      "source": [
        "X = df_train"
      ],
      "execution_count": 31,
      "outputs": []
    },
    {
      "cell_type": "code",
      "metadata": {
        "colab": {
          "base_uri": "https://localhost:8080/"
        },
        "id": "HPph09QMud-6",
        "outputId": "bb693d3e-8963-45cf-cc36-acbc35f313ab"
      },
      "source": [
        "X.shape"
      ],
      "execution_count": 32,
      "outputs": [
        {
          "output_type": "execute_result",
          "data": {
            "text/plain": [
              "(13076, 9)"
            ]
          },
          "metadata": {
            "tags": []
          },
          "execution_count": 32
        }
      ]
    },
    {
      "cell_type": "code",
      "metadata": {
        "colab": {
          "base_uri": "https://localhost:8080/"
        },
        "id": "OOjIw1Guqa2Z",
        "outputId": "97d34b7b-8887-44a1-f015-1018d33f8833"
      },
      "source": [
        "Y.shape"
      ],
      "execution_count": 33,
      "outputs": [
        {
          "output_type": "execute_result",
          "data": {
            "text/plain": [
              "(13076,)"
            ]
          },
          "metadata": {
            "tags": []
          },
          "execution_count": 33
        }
      ]
    },
    {
      "cell_type": "code",
      "metadata": {
        "colab": {
          "base_uri": "https://localhost:8080/"
        },
        "id": "j7HSUIiGqiI6",
        "outputId": "7412d2d4-731f-4a7f-90cf-c29d1e2224bd"
      },
      "source": [
        "df_train.info()"
      ],
      "execution_count": 34,
      "outputs": [
        {
          "output_type": "stream",
          "text": [
            "<class 'pandas.core.frame.DataFrame'>\n",
            "Int64Index: 13076 entries, 0 to 13075\n",
            "Data columns (total 9 columns):\n",
            " #   Column             Non-Null Count  Dtype   \n",
            "---  ------             --------------  -----   \n",
            " 0   fare               13076 non-null  float64 \n",
            " 1   trip_start_month   13076 non-null  category\n",
            " 2   trip_start_hour    13076 non-null  category\n",
            " 3   trip_start_day     13076 non-null  category\n",
            " 4   pickup_latitude    13076 non-null  float64 \n",
            " 5   pickup_longitude   13076 non-null  float64 \n",
            " 6   dropoff_latitude   13076 non-null  float64 \n",
            " 7   dropoff_longitude  13076 non-null  float64 \n",
            " 8   dist_km            13076 non-null  float64 \n",
            "dtypes: category(3), float64(6)\n",
            "memory usage: 755.0 KB\n"
          ],
          "name": "stdout"
        }
      ]
    },
    {
      "cell_type": "markdown",
      "metadata": {
        "id": "81BUFxG8wOKk"
      },
      "source": [
        "Normalize"
      ]
    },
    {
      "cell_type": "code",
      "metadata": {
        "id": "o5D4u1Fcwhuc"
      },
      "source": [
        "# #Normalizing \n",
        "# from sklearn.preprocessing import Normalizer\n",
        "\n",
        "# # normalize the X\n",
        "# X = df_train\n",
        "\n",
        "# transformer = Normalizer().fit(X)\n",
        "# X = transformer.transform(X)"
      ],
      "execution_count": 36,
      "outputs": []
    },
    {
      "cell_type": "code",
      "metadata": {
        "colab": {
          "base_uri": "https://localhost:8080/",
          "height": 419
        },
        "id": "KKBtxMYqqyrH",
        "outputId": "bbdb5a8d-f3a5-412e-f025-ba45af4cbbf5"
      },
      "source": [
        "X_train, X_val, y_train, y_val = train_test_split(X, Y, test_size=0.20, random_state=42,shuffle=True ) \n",
        "X_train"
      ],
      "execution_count": 35,
      "outputs": [
        {
          "output_type": "execute_result",
          "data": {
            "text/html": [
              "<div>\n",
              "<style scoped>\n",
              "    .dataframe tbody tr th:only-of-type {\n",
              "        vertical-align: middle;\n",
              "    }\n",
              "\n",
              "    .dataframe tbody tr th {\n",
              "        vertical-align: top;\n",
              "    }\n",
              "\n",
              "    .dataframe thead th {\n",
              "        text-align: right;\n",
              "    }\n",
              "</style>\n",
              "<table border=\"1\" class=\"dataframe\">\n",
              "  <thead>\n",
              "    <tr style=\"text-align: right;\">\n",
              "      <th></th>\n",
              "      <th>fare</th>\n",
              "      <th>trip_start_month</th>\n",
              "      <th>trip_start_hour</th>\n",
              "      <th>trip_start_day</th>\n",
              "      <th>pickup_latitude</th>\n",
              "      <th>pickup_longitude</th>\n",
              "      <th>dropoff_latitude</th>\n",
              "      <th>dropoff_longitude</th>\n",
              "      <th>dist_km</th>\n",
              "    </tr>\n",
              "  </thead>\n",
              "  <tbody>\n",
              "    <tr>\n",
              "      <th>6821</th>\n",
              "      <td>21.25</td>\n",
              "      <td>3</td>\n",
              "      <td>22</td>\n",
              "      <td>3</td>\n",
              "      <td>-0.077232</td>\n",
              "      <td>0.338653</td>\n",
              "      <td>1.875477</td>\n",
              "      <td>-0.592770</td>\n",
              "      <td>0.770584</td>\n",
              "    </tr>\n",
              "    <tr>\n",
              "      <th>8900</th>\n",
              "      <td>5.65</td>\n",
              "      <td>11</td>\n",
              "      <td>14</td>\n",
              "      <td>5</td>\n",
              "      <td>-0.583086</td>\n",
              "      <td>0.347557</td>\n",
              "      <td>-0.563017</td>\n",
              "      <td>0.377906</td>\n",
              "      <td>-0.733534</td>\n",
              "    </tr>\n",
              "    <tr>\n",
              "      <th>10476</th>\n",
              "      <td>6.65</td>\n",
              "      <td>11</td>\n",
              "      <td>18</td>\n",
              "      <td>3</td>\n",
              "      <td>-0.630372</td>\n",
              "      <td>0.190538</td>\n",
              "      <td>-0.831968</td>\n",
              "      <td>0.565302</td>\n",
              "      <td>-0.425732</td>\n",
              "    </tr>\n",
              "    <tr>\n",
              "      <th>12538</th>\n",
              "      <td>6.65</td>\n",
              "      <td>6</td>\n",
              "      <td>1</td>\n",
              "      <td>6</td>\n",
              "      <td>2.290874</td>\n",
              "      <td>-0.138762</td>\n",
              "      <td>2.767535</td>\n",
              "      <td>-0.285299</td>\n",
              "      <td>-0.321676</td>\n",
              "    </tr>\n",
              "    <tr>\n",
              "      <th>11335</th>\n",
              "      <td>9.05</td>\n",
              "      <td>11</td>\n",
              "      <td>1</td>\n",
              "      <td>5</td>\n",
              "      <td>0.550319</td>\n",
              "      <td>0.082083</td>\n",
              "      <td>-0.039658</td>\n",
              "      <td>-0.394989</td>\n",
              "      <td>-0.218230</td>\n",
              "    </tr>\n",
              "    <tr>\n",
              "      <th>...</th>\n",
              "      <td>...</td>\n",
              "      <td>...</td>\n",
              "      <td>...</td>\n",
              "      <td>...</td>\n",
              "      <td>...</td>\n",
              "      <td>...</td>\n",
              "      <td>...</td>\n",
              "      <td>...</td>\n",
              "      <td>...</td>\n",
              "    </tr>\n",
              "    <tr>\n",
              "      <th>11964</th>\n",
              "      <td>5.05</td>\n",
              "      <td>9</td>\n",
              "      <td>21</td>\n",
              "      <td>5</td>\n",
              "      <td>-0.089370</td>\n",
              "      <td>0.451195</td>\n",
              "      <td>0.174959</td>\n",
              "      <td>0.409504</td>\n",
              "      <td>-0.541627</td>\n",
              "    </tr>\n",
              "    <tr>\n",
              "      <th>5191</th>\n",
              "      <td>4.85</td>\n",
              "      <td>1</td>\n",
              "      <td>11</td>\n",
              "      <td>1</td>\n",
              "      <td>-0.282752</td>\n",
              "      <td>0.361551</td>\n",
              "      <td>-0.459634</td>\n",
              "      <td>0.586216</td>\n",
              "      <td>-0.545002</td>\n",
              "    </tr>\n",
              "    <tr>\n",
              "      <th>5390</th>\n",
              "      <td>4.45</td>\n",
              "      <td>1</td>\n",
              "      <td>1</td>\n",
              "      <td>5</td>\n",
              "      <td>-0.282752</td>\n",
              "      <td>0.361551</td>\n",
              "      <td>-0.246558</td>\n",
              "      <td>0.287559</td>\n",
              "      <td>-0.652687</td>\n",
              "    </tr>\n",
              "    <tr>\n",
              "      <th>860</th>\n",
              "      <td>21.25</td>\n",
              "      <td>4</td>\n",
              "      <td>13</td>\n",
              "      <td>0</td>\n",
              "      <td>-0.270093</td>\n",
              "      <td>0.451125</td>\n",
              "      <td>-2.906966</td>\n",
              "      <td>0.935499</td>\n",
              "      <td>1.087735</td>\n",
              "    </tr>\n",
              "    <tr>\n",
              "      <th>7270</th>\n",
              "      <td>11.85</td>\n",
              "      <td>7</td>\n",
              "      <td>9</td>\n",
              "      <td>5</td>\n",
              "      <td>0.878614</td>\n",
              "      <td>0.234859</td>\n",
              "      <td>-0.655930</td>\n",
              "      <td>0.568870</td>\n",
              "      <td>0.300422</td>\n",
              "    </tr>\n",
              "  </tbody>\n",
              "</table>\n",
              "<p>10460 rows × 9 columns</p>\n",
              "</div>"
            ],
            "text/plain": [
              "        fare trip_start_month  ... dropoff_longitude   dist_km\n",
              "6821   21.25                3  ...         -0.592770  0.770584\n",
              "8900    5.65               11  ...          0.377906 -0.733534\n",
              "10476   6.65               11  ...          0.565302 -0.425732\n",
              "12538   6.65                6  ...         -0.285299 -0.321676\n",
              "11335   9.05               11  ...         -0.394989 -0.218230\n",
              "...      ...              ...  ...               ...       ...\n",
              "11964   5.05                9  ...          0.409504 -0.541627\n",
              "5191    4.85                1  ...          0.586216 -0.545002\n",
              "5390    4.45                1  ...          0.287559 -0.652687\n",
              "860    21.25                4  ...          0.935499  1.087735\n",
              "7270   11.85                7  ...          0.568870  0.300422\n",
              "\n",
              "[10460 rows x 9 columns]"
            ]
          },
          "metadata": {
            "tags": []
          },
          "execution_count": 35
        }
      ]
    },
    {
      "cell_type": "code",
      "metadata": {
        "colab": {
          "base_uri": "https://localhost:8080/"
        },
        "id": "pyxK2sGatu_2",
        "outputId": "bf37b8ee-ae11-41e1-eae5-a43657b176f3"
      },
      "source": [
        "X_train.shape"
      ],
      "execution_count": 36,
      "outputs": [
        {
          "output_type": "execute_result",
          "data": {
            "text/plain": [
              "(10460, 9)"
            ]
          },
          "metadata": {
            "tags": []
          },
          "execution_count": 36
        }
      ]
    },
    {
      "cell_type": "code",
      "metadata": {
        "colab": {
          "base_uri": "https://localhost:8080/"
        },
        "id": "rE4RXdxkvpcp",
        "outputId": "42e2c83c-a1b4-49a3-a4e9-3e4a756b8467"
      },
      "source": [
        "y_train.shape"
      ],
      "execution_count": 37,
      "outputs": [
        {
          "output_type": "execute_result",
          "data": {
            "text/plain": [
              "(10460,)"
            ]
          },
          "metadata": {
            "tags": []
          },
          "execution_count": 37
        }
      ]
    },
    {
      "cell_type": "code",
      "metadata": {
        "colab": {
          "base_uri": "https://localhost:8080/"
        },
        "id": "xm46m4O7vsk_",
        "outputId": "03147086-6258-477a-8480-78aa7163355b"
      },
      "source": [
        "X_val.shape"
      ],
      "execution_count": 38,
      "outputs": [
        {
          "output_type": "execute_result",
          "data": {
            "text/plain": [
              "(2616, 9)"
            ]
          },
          "metadata": {
            "tags": []
          },
          "execution_count": 38
        }
      ]
    },
    {
      "cell_type": "code",
      "metadata": {
        "colab": {
          "base_uri": "https://localhost:8080/"
        },
        "id": "Ol38GRd5y8XM",
        "outputId": "21449a4b-cb56-40b0-e0d3-8b576dcc1aa4"
      },
      "source": [
        "y_val.shape"
      ],
      "execution_count": 39,
      "outputs": [
        {
          "output_type": "execute_result",
          "data": {
            "text/plain": [
              "(2616,)"
            ]
          },
          "metadata": {
            "tags": []
          },
          "execution_count": 39
        }
      ]
    },
    {
      "cell_type": "markdown",
      "metadata": {
        "id": "H2bJnEfKnrTS"
      },
      "source": [
        "#### PyTorch Implementation"
      ]
    },
    {
      "cell_type": "markdown",
      "metadata": {
        "id": "4vwPh1sxdfSg"
      },
      "source": [
        "Embedding"
      ]
    },
    {
      "cell_type": "code",
      "metadata": {
        "colab": {
          "base_uri": "https://localhost:8080/"
        },
        "id": "iSR9na4xntk6",
        "outputId": "e554570e-a503-4883-ca47-570281fd0905"
      },
      "source": [
        "#df.info()\n",
        "cat_szs = [len(df[col].cat.categories) for col in cat_cols]\n",
        "emb_szs = [(size, min(50, (size+1)//2)) for size in cat_szs]\n",
        "emb_szs"
      ],
      "execution_count": 54,
      "outputs": [
        {
          "output_type": "execute_result",
          "data": {
            "text/plain": [
              "[(12, 6), (24, 12), (7, 4)]"
            ]
          },
          "metadata": {
            "tags": []
          },
          "execution_count": 54
        }
      ]
    },
    {
      "cell_type": "code",
      "metadata": {
        "colab": {
          "base_uri": "https://localhost:8080/"
        },
        "id": "oBepFKo3torf",
        "outputId": "db676b2e-568b-4b3c-8fd9-85c890b981cd"
      },
      "source": [
        "type(emb_szs)"
      ],
      "execution_count": 58,
      "outputs": [
        {
          "output_type": "execute_result",
          "data": {
            "text/plain": [
              "list"
            ]
          },
          "metadata": {
            "tags": []
          },
          "execution_count": 58
        }
      ]
    },
    {
      "cell_type": "code",
      "metadata": {
        "id": "LZob8eSo1so3"
      },
      "source": [
        "class RegressionColumnarDataset(data.Dataset):\n",
        "    def __init__(self, df, cats, y):\n",
        "        \n",
        "        \n",
        "        self.dfcats = df[cats] #type: pandas.core.frame.DataFrame\n",
        "        self.dfconts = df.drop(cats, axis=1) #type: pandas.core.frame.DataFrame\n",
        "        \n",
        "        \n",
        "        self.cats = np.stack([c.values for n, c in self.dfcats.items()], axis=1).astype(np.int64) #tpye: numpy.ndarray\n",
        "        self.conts = np.stack([c.values for n, c in self.dfconts.items()], axis=1).astype(np.float32) #tpye: numpy.ndarray\n",
        "        self.y = y.values.astype(np.float32)\n",
        "        \n",
        "        \n",
        "    def __len__(self): return len(self.y)\n",
        "\n",
        "    def __getitem__(self, idx):\n",
        "        \n",
        "        return [self.cats[idx], self.conts[idx], self.y[idx]]"
      ],
      "execution_count": 59,
      "outputs": []
    },
    {
      "cell_type": "code",
      "metadata": {
        "id": "nGENe-Eyt1tb"
      },
      "source": [
        "trainds = RegressionColumnarDataset(X_train, cat_cols, y_train) #type: __main__.RegressionColumnarDataset\n",
        "valds = RegressionColumnarDataset(X_val, cat_cols, y_val) #type: __main__.RegressionColumnarDataset"
      ],
      "execution_count": 60,
      "outputs": []
    },
    {
      "cell_type": "code",
      "metadata": {
        "id": "uaeiEa-Yt8O6"
      },
      "source": [
        "params = {'batch_size': 128,\n",
        "          'shuffle': True}\n",
        "\n",
        "\n",
        "traindl = DataLoader(trainds, **params) #type: torch.utils.data.dataloader.DataLoader\n",
        "valdl = DataLoader(valds, **params) #type: torch.utils.data.dataloader.DataLoader\n"
      ],
      "execution_count": 61,
      "outputs": []
    },
    {
      "cell_type": "markdown",
      "metadata": {
        "id": "de_89J507ZyL"
      },
      "source": [
        "Tabular Model"
      ]
    },
    {
      "cell_type": "code",
      "metadata": {
        "id": "kejj_ROAy__N"
      },
      "source": [
        "# Helper functions\n",
        "\n",
        "from collections.abc import Iterable\n",
        "\n",
        "\n",
        "def bn_drop_lin(n_in:int, n_out:int, bn:bool=True, p:float=0., actn=None):\n",
        "    \"Sequence of batchnorm (if `bn`), dropout (with `p`) and linear (`n_in`,`n_out`) layers followed by `actn`.\"\n",
        "    layers = [nn.BatchNorm1d(n_in)] if bn else []\n",
        "    if p != 0: layers.append(nn.Dropout(p))\n",
        "    layers.append(nn.Linear(n_in, n_out))\n",
        "    if actn is not None: layers.append(actn)\n",
        "    return layers\n",
        "\n",
        "def ifnone(a,b):\n",
        "    \"`a` if `a` is not None, otherwise `b`.\"\n",
        "    return b if a is None else a\n",
        "\n",
        "def listify(p, q):\n",
        "    \"Make `p` listy and the same length as `q`.\"\n",
        "    if p is None: p=[]\n",
        "    elif isinstance(p, str):          p = [p]\n",
        "    elif not isinstance(p, Iterable): p = [p]\n",
        "    #Rank 0 tensors in PyTorch are Iterable but don't have a length.\n",
        "    else:\n",
        "        try: a = len(p)\n",
        "        except: p = [p]\n",
        "    n = q if type(q)==int else len(p) if q is None else len(q)\n",
        "    if len(p)==1: p = p * n\n",
        "    assert len(p)==n, f'List len mismatch ({len(p)} vs {n})'\n",
        "    return list(p)\n",
        "\n",
        "              \n",
        "\n",
        "class TabularModel(nn.Module):\n",
        "    \"Basic model for tabular data.\"\n",
        "    def __init__(self, emb_szs, n_cont:int, out_sz:int, layers, ps=None,\n",
        "                 emb_drop:float=0., y_range=None, use_bn:bool=True, bn_final:bool=False):\n",
        "        super().__init__()\n",
        "        ps = ifnone(ps, [0]*len(layers))\n",
        "        ps = listify(ps, layers)\n",
        "        self.embeds = nn.ModuleList([nn.Embedding(ni, nf) for ni,nf in emb_szs]) #type: torch.nn.modules.container.ModuleList\n",
        "        self.emb_drop = nn.Dropout(emb_drop) #type: torch.nn.modules.dropout.Dropout\n",
        "        self.bn_cont = nn.BatchNorm1d(n_cont) #type torch.nn.modules.batchnorm.BatchNorm1d\n",
        "        n_emb = sum(e.embedding_dim for e in self.embeds) # n_emb = 17 , type: int\n",
        "        self.n_emb,self.n_cont,self.y_range = n_emb,n_cont,y_range\n",
        "        sizes = [n_emb + n_cont] + layers + [out_sz] #typeL list, len: 4\n",
        "        actns = [nn.ReLU(inplace=True) for _ in range(len(sizes)-2)] + [None] #type: list, len: 3.  the last in None because we finish with linear\n",
        "        layers = []\n",
        "        for i,(n_in,n_out,dp,act) in enumerate(zip(sizes[:-1],sizes[1:],[0.]+ps,actns)):\n",
        "            layers += bn_drop_lin(n_in, n_out, bn=use_bn and i!=0, p=dp, actn=act)\n",
        "        if bn_final: layers.append(nn.BatchNorm1d(sizes[-1]))\n",
        "        self.layers = nn.Sequential(*layers) #type: torch.nn.modules.container.Sequential\n",
        "        \n",
        "\n",
        "\n",
        "\n",
        "    def forward(self, x_cat, x_cont):\n",
        "        if self.n_emb != 0:\n",
        "            x = [e(x_cat[:,i]) for i,e in enumerate(self.embeds)] #take the embedding list and grab an embedding and pass in our single row of data.        \n",
        "            x = torch.cat(x, 1) # concatenate it on dim 1 ## remeber that the len is the batch size\n",
        "            x = self.emb_drop(x) # pass it through a dropout layer\n",
        "        if self.n_cont != 0:\n",
        "            x_cont = self.bn_cont(x_cont) # batchnorm1d\n",
        "            x = torch.cat([x, x_cont], 1) if self.n_emb != 0 else x_cont # combine the categircal and continous variables on dim 1\n",
        "        x = self.layers(x)\n",
        "        if self.y_range is not None:\n",
        "            x = (self.y_range[1]-self.y_range[0]) * torch.sigmoid(x) + self.y_range[0] # deal with y_range\n",
        "        return x.squeeze()"
      ],
      "execution_count": 62,
      "outputs": []
    },
    {
      "cell_type": "code",
      "metadata": {
        "colab": {
          "base_uri": "https://localhost:8080/"
        },
        "id": "6wHbmBi_76Jp",
        "outputId": "977e57c5-08fc-4234-ca7c-b104cd64f5b4"
      },
      "source": [
        "torch.manual_seed(33)"
      ],
      "execution_count": 63,
      "outputs": [
        {
          "output_type": "execute_result",
          "data": {
            "text/plain": [
              "<torch._C.Generator at 0x7f55e92b1850>"
            ]
          },
          "metadata": {
            "tags": []
          },
          "execution_count": 63
        }
      ]
    },
    {
      "cell_type": "code",
      "metadata": {
        "colab": {
          "base_uri": "https://localhost:8080/"
        },
        "id": "UWrvk_PD7-Hd",
        "outputId": "d53d8d8f-5f6e-49ce-b8dc-f40510c177e6"
      },
      "source": [
        "y_range = (0, y_train.max()*1.2)\n",
        "y_range"
      ],
      "execution_count": 64,
      "outputs": [
        {
          "output_type": "execute_result",
          "data": {
            "text/plain": [
              "(0, 5.669142800253904)"
            ]
          },
          "metadata": {
            "tags": []
          },
          "execution_count": 64
        }
      ]
    },
    {
      "cell_type": "code",
      "metadata": {
        "colab": {
          "base_uri": "https://localhost:8080/"
        },
        "id": "Al6VpuaK8GlK",
        "outputId": "a5902d4d-adce-4283-f2f0-a12729e9e870"
      },
      "source": [
        "model = TabularModel(emb_szs = emb_szs,n_cont = len(cont_cols),out_sz = 1,layers = [1000,500,250],ps= [0.001,0.01,0.01],emb_drop=0.04, y_range=y_range).to(device)\n",
        "model"
      ],
      "execution_count": 65,
      "outputs": [
        {
          "output_type": "execute_result",
          "data": {
            "text/plain": [
              "TabularModel(\n",
              "  (embeds): ModuleList(\n",
              "    (0): Embedding(12, 6)\n",
              "    (1): Embedding(24, 12)\n",
              "    (2): Embedding(7, 4)\n",
              "  )\n",
              "  (emb_drop): Dropout(p=0.04, inplace=False)\n",
              "  (bn_cont): BatchNorm1d(5, eps=1e-05, momentum=0.1, affine=True, track_running_stats=True)\n",
              "  (layers): Sequential(\n",
              "    (0): Linear(in_features=27, out_features=1000, bias=True)\n",
              "    (1): ReLU(inplace=True)\n",
              "    (2): BatchNorm1d(1000, eps=1e-05, momentum=0.1, affine=True, track_running_stats=True)\n",
              "    (3): Dropout(p=0.001, inplace=False)\n",
              "    (4): Linear(in_features=1000, out_features=500, bias=True)\n",
              "    (5): ReLU(inplace=True)\n",
              "    (6): BatchNorm1d(500, eps=1e-05, momentum=0.1, affine=True, track_running_stats=True)\n",
              "    (7): Dropout(p=0.01, inplace=False)\n",
              "    (8): Linear(in_features=500, out_features=250, bias=True)\n",
              "    (9): ReLU(inplace=True)\n",
              "    (10): BatchNorm1d(250, eps=1e-05, momentum=0.1, affine=True, track_running_stats=True)\n",
              "    (11): Dropout(p=0.01, inplace=False)\n",
              "    (12): Linear(in_features=250, out_features=1, bias=True)\n",
              "  )\n",
              ")"
            ]
          },
          "metadata": {
            "tags": []
          },
          "execution_count": 65
        }
      ]
    },
    {
      "cell_type": "markdown",
      "metadata": {
        "id": "jG6jKrfj9Wz8"
      },
      "source": [
        "Optimizer"
      ]
    },
    {
      "cell_type": "code",
      "metadata": {
        "id": "H8XbPg1e9SUr"
      },
      "source": [
        "from collections import defaultdict\n",
        "opt = torch.optim.Adam(model.parameters(), lr=1e-2) # can add: weight_decay=\n",
        "#lr_cosine = lr_scheduler.CosineAnnealingLR(opt,T_max = 350) #1000 ## if you want to add lr_cosine\n",
        "\n",
        "lr = defaultdict(list)\n",
        "tloss = defaultdict(list)\n",
        "vloss = defaultdict(list)"
      ],
      "execution_count": 66,
      "outputs": []
    },
    {
      "cell_type": "code",
      "metadata": {
        "id": "nOrXU12an9O_"
      },
      "source": [
        "class RegressionColumnarDataset(data.Dataset):\n",
        "    def __init__(self, df, cats, y):\n",
        "        self.dfcats = df[cats]\n",
        "        self.dfconts = df.drop(cats, axis=1)\n",
        "        \n",
        "        self.cats = np.stack([c.values for n, c in self.dfcats.items()], axis=1).astype(np.int64)\n",
        "        self.conts = np.stack([c.values for n, c in self.dfconts.items()], axis=1).astype(np.float32)\n",
        "        self.y = y.values.astype(np.float32)\n",
        "        \n",
        "    def __len__(self): return len(self.y)\n",
        "\n",
        "    def __getitem__(self, idx):\n",
        "        return [self.cats[idx], self.conts[idx], self.y[idx]]\n",
        "    \n",
        "def rmse(targ, y_pred):\n",
        "    return np.sqrt(mean_squared_error(inv_y(y_pred), inv_y(targ))) #.detach().numpy()\n",
        "\n",
        "def emb_init(x):\n",
        "    x = x.weight.data\n",
        "    sc = 2/(x.size(1)+1)\n",
        "    x.uniform_(-sc,sc)\n",
        "\n",
        "class MixedInputModel(nn.Module):\n",
        "    def __init__(self, emb_szs, n_cont, emb_drop, out_sz, szs, drops, y_range, use_bn=True):\n",
        "        super().__init__()\n",
        "        for i,(c,s) in enumerate(emb_szs): assert c > 1, f\"cardinality must be >=2, got emb_szs[{i}]: ({c},{s})\"\n",
        "        self.embs = nn.ModuleList([nn.Embedding(c, s) for c,s in emb_szs])\n",
        "        for emb in self.embs: emb_init(emb)\n",
        "        n_emb = sum(e.embedding_dim for e in self.embs)\n",
        "        self.n_emb, self.n_cont=n_emb, n_cont\n",
        "        \n",
        "        szs = [n_emb+n_cont] + szs\n",
        "        self.lins = nn.ModuleList([nn.Linear(szs[i], szs[i+1]) for i in range(len(szs)-1)])\n",
        "        self.bns = nn.ModuleList([nn.BatchNorm1d(sz) for sz in szs[1:]])\n",
        "        for o in self.lins: nn.init.kaiming_normal_(o.weight.data)\n",
        "        self.outp = nn.Linear(szs[-1], out_sz)\n",
        "        nn.init.kaiming_normal_(self.outp.weight.data)\n",
        "\n",
        "        self.emb_drop = nn.Dropout(emb_drop)\n",
        "        self.drops = nn.ModuleList([nn.Dropout(drop) for drop in drops])\n",
        "        self.bn = nn.BatchNorm1d(n_cont)\n",
        "        self.use_bn,self.y_range = use_bn,y_range\n",
        "\n",
        "    def forward(self, x_cat, x_cont):\n",
        "        if self.n_emb != 0:\n",
        "            x = [e(x_cat[:,i]) for i,e in enumerate(self.embs)]\n",
        "            x = torch.cat(x, 1)\n",
        "            x = self.emb_drop(x)\n",
        "        if self.n_cont != 0:\n",
        "            x2 = self.bn(x_cont)\n",
        "            x = torch.cat([x, x2], 1) if self.n_emb != 0 else x2\n",
        "        for l,d,b in zip(self.lins, self.drops, self.bns):\n",
        "            x = F.relu(l(x))\n",
        "            if self.use_bn: x = b(x)\n",
        "            x = d(x)\n",
        "        x = self.outp(x)\n",
        "        if self.y_range:\n",
        "            x = torch.sigmoid(x)\n",
        "            x = x*(self.y_range[1] - self.y_range[0])\n",
        "            x = x+self.y_range[0]\n",
        "        return x.squeeze()"
      ],
      "execution_count": 47,
      "outputs": []
    },
    {
      "cell_type": "markdown",
      "metadata": {
        "id": "nGWPLR4K9bJT"
      },
      "source": [
        "Train and Fit"
      ]
    },
    {
      "cell_type": "code",
      "metadata": {
        "id": "RrfYJtPl9dSk"
      },
      "source": [
        "def inv_y(y): return np.exp(y)\n",
        "\n",
        "def rmse(targ, y_pred):\n",
        "    return np.sqrt(mean_squared_error(inv_y(y_pred), inv_y(targ))) #.detach().numpy()\n",
        "    \n",
        "\n",
        "def rmse(targ, y_pred):\n",
        "   return np.sqrt(mean_squared_error(y_pred, targ)) #.detach().numpy()\n",
        "\n",
        "\n",
        "#def fit(model, train_dl, val_dl, loss_fn, opt, scheduler, epochs=3): ## if you want to add schedular\n",
        "def fit(model, train_dl, val_dl, loss_fn, opt, epochs=3):\n",
        "    num_batch = len(train_dl)\n",
        "    for epoch in tnrange(epochs):      \n",
        "        y_true_train = list()\n",
        "        y_pred_train = list()\n",
        "        total_loss_train = 0          \n",
        "        \n",
        "        t = tqdm_notebook(iter(train_dl), leave=False, total=num_batch)\n",
        "        for cat, cont, y in t:\n",
        "            cat = cat.cuda()\n",
        "            cont = cont.cuda()\n",
        "            y = y.cuda()\n",
        "            \n",
        "            t.set_description(f'Epoch {epoch}')\n",
        "            \n",
        "            opt.zero_grad() #find where the grads are zero\n",
        "            pred = model(cat, cont)\n",
        "            loss = loss_fn(pred, y)\n",
        "            \n",
        "            loss.backward() # do backprop\n",
        "            lr[epoch].append(opt.param_groups[0]['lr'])\n",
        "            tloss[epoch].append(loss.item())\n",
        "            opt.step()\n",
        "            #scheduler.step()\n",
        "            \n",
        "            \n",
        "            t.set_postfix(loss=loss.item())\n",
        "            \n",
        "            y_true_train += list(y.cpu().data.numpy())\n",
        "            y_pred_train += list(pred.cpu().data.numpy())\n",
        "            total_loss_train += loss.item()\n",
        "            \n",
        "        train_acc = rmse(y_true_train, y_pred_train)\n",
        "        train_loss = total_loss_train/len(train_dl) # len train_dl = 704. the calc is number of train examples (89991) / batch size (128)\n",
        "        \n",
        "        if val_dl:\n",
        "            y_true_val = list()\n",
        "            y_pred_val = list()\n",
        "            total_loss_val = 0\n",
        "            for cat, cont, y in tqdm_notebook(val_dl, leave=False):\n",
        "                cat = cat.cuda()\n",
        "                cont = cont.cuda()\n",
        "                y = y.cuda()\n",
        "                pred = model(cat, cont)\n",
        "                loss = loss_fn(pred, y)\n",
        "                \n",
        "                y_true_val += list(y.cpu().data.numpy())\n",
        "                y_pred_val += list(pred.cpu().data.numpy())\n",
        "                total_loss_val += loss.item()\n",
        "                vloss[epoch].append(loss.item())\n",
        "            valacc = rmse(y_true_val, y_pred_val)\n",
        "            valloss = total_loss_val/len(valdl)\n",
        "            print(f'Epoch {epoch}: train_loss: {train_loss:.4f} train_rmse: {train_acc:.4f} | val_loss: {valloss:.4f} val_rmse: {valacc:.4f}')\n",
        "        else:\n",
        "            print(f'Epoch {epoch}: train_loss: {train_loss:.4f} train_rmse: {train_acc:.4f}')\n",
        "    \n",
        "    return lr, tloss, vloss"
      ],
      "execution_count": 67,
      "outputs": []
    },
    {
      "cell_type": "markdown",
      "metadata": {
        "id": "NIuGJ99w9i3f"
      },
      "source": [
        "Train the Model"
      ]
    },
    {
      "cell_type": "code",
      "metadata": {
        "id": "SrphtGg99qEn"
      },
      "source": [
        "#if you want to add lr_cosine\n",
        "#lr, tloss, vloss = fit(model=model, train_dl=traindl, val_dl=valdl, loss_fn=nn.MSELoss(), opt=opt, scheduler=lr_cosine, epochs=10)\n",
        "\n",
        "\n",
        "lr, tloss, vloss = fit(model=model, train_dl=traindl, val_dl=valdl, loss_fn=nn.MSELoss(), opt=opt,  epochs=10)"
      ],
      "execution_count": null,
      "outputs": []
    }
  ]
}