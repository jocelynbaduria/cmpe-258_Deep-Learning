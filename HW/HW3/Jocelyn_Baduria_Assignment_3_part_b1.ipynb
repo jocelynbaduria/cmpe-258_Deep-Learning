{
  "nbformat": 4,
  "nbformat_minor": 0,
  "metadata": {
    "colab": {
      "name": "Jocelyn_Baduria_Assignment 3_part_b1.ipynb",
      "provenance": [],
      "collapsed_sections": [],
      "authorship_tag": "ABX9TyNLm8aIAauhZAY2v6vBk0oX",
      "include_colab_link": true
    },
    "kernelspec": {
      "name": "python3",
      "display_name": "Python 3"
    },
    "language_info": {
      "name": "python"
    }
  },
  "cells": [
    {
      "cell_type": "markdown",
      "metadata": {
        "id": "view-in-github",
        "colab_type": "text"
      },
      "source": [
        "<a href=\"https://colab.research.google.com/github/jocelynbaduria/Assignment-3-_part_a_b_c.ipynb/blob/main/Jocelyn_Baduria_Assignment_3_part_b1.ipynb\" target=\"_parent\"><img src=\"https://colab.research.google.com/assets/colab-badge.svg\" alt=\"Open In Colab\"/></a>"
      ]
    },
    {
      "cell_type": "markdown",
      "metadata": {
        "id": "RyrBJ2DE21Yv"
      },
      "source": [
        "# B1. Pytorch\n",
        "No auto differentiation "
      ]
    },
    {
      "cell_type": "code",
      "metadata": {
        "colab": {
          "base_uri": "https://localhost:8080/"
        },
        "id": "jANoXmH12Nx_",
        "outputId": "73cd43cf-3d3f-47d1-be29-832faaac9d3a"
      },
      "source": [
        "!pip list | grep tensor"
      ],
      "execution_count": 1,
      "outputs": [
        {
          "output_type": "stream",
          "text": [
            "tensorboard                   2.4.1         \n",
            "tensorboard-plugin-wit        1.8.0         \n",
            "tensorflow                    2.4.1         \n",
            "tensorflow-datasets           4.0.1         \n",
            "tensorflow-estimator          2.4.0         \n",
            "tensorflow-gcs-config         2.4.0         \n",
            "tensorflow-hub                0.11.0        \n",
            "tensorflow-metadata           0.28.0        \n",
            "tensorflow-probability        0.12.1        \n"
          ],
          "name": "stdout"
        }
      ]
    },
    {
      "cell_type": "code",
      "metadata": {
        "colab": {
          "base_uri": "https://localhost:8080/"
        },
        "id": "brp8XawN3X1q",
        "outputId": "a3a2a756-9c2d-4789-cc48-90a8eb219a5b"
      },
      "source": [
        "!pip list | grep torch"
      ],
      "execution_count": 2,
      "outputs": [
        {
          "output_type": "stream",
          "text": [
            "torch                         1.8.0+cu101   \n",
            "torchsummary                  1.5.1         \n",
            "torchtext                     0.9.0         \n",
            "torchvision                   0.9.0+cu101   \n"
          ],
          "name": "stdout"
        }
      ]
    },
    {
      "cell_type": "code",
      "metadata": {
        "colab": {
          "base_uri": "https://localhost:8080/"
        },
        "id": "kqbuwzzfJrsF",
        "outputId": "bae23515-feb3-43be-b813-4c45dbce6f56"
      },
      "source": [
        "!pip3 install torch torchvision"
      ],
      "execution_count": 3,
      "outputs": [
        {
          "output_type": "stream",
          "text": [
            "Requirement already satisfied: torch in /usr/local/lib/python3.7/dist-packages (1.8.0+cu101)\n",
            "Requirement already satisfied: torchvision in /usr/local/lib/python3.7/dist-packages (0.9.0+cu101)\n",
            "Requirement already satisfied: numpy in /usr/local/lib/python3.7/dist-packages (from torch) (1.19.5)\n",
            "Requirement already satisfied: typing-extensions in /usr/local/lib/python3.7/dist-packages (from torch) (3.7.4.3)\n",
            "Requirement already satisfied: pillow>=4.1.1 in /usr/local/lib/python3.7/dist-packages (from torchvision) (7.0.0)\n"
          ],
          "name": "stdout"
        }
      ]
    },
    {
      "cell_type": "code",
      "metadata": {
        "id": "5N-9UtCXKPkP"
      },
      "source": [
        "import torch\n",
        "import torch.nn as nn\n",
        "import numpy as np\n",
        "\n",
        "\n",
        "%matplotlib inline\n",
        "torch.set_printoptions(edgeitems=2, linewidth=75)"
      ],
      "execution_count": 4,
      "outputs": []
    },
    {
      "cell_type": "markdown",
      "metadata": {
        "id": "5-kse_nz3I83"
      },
      "source": [
        "1. Generate data: 3 dimensions input and 2 dimensions output "
      ]
    },
    {
      "cell_type": "code",
      "metadata": {
        "colab": {
          "base_uri": "https://localhost:8080/"
        },
        "id": "DjmrBMJRVCq2",
        "outputId": "5f45bcb8-9764-494b-91e5-8facce76e914"
      },
      "source": [
        "# Make non-linear data, using 3 dimensional input data and 2 output neurons\n",
        "\n",
        "n_samples = 200\n",
        "d1 = 3\n",
        "d2 = 3\n",
        "x = torch.FloatTensor(n_samples, d1).uniform_(-1,1)\n",
        "y = torch.FloatTensor(n_samples, d2).uniform_(-1,1)\n",
        "x_un = 0.1 * x\n",
        "weights_true = torch.FloatTensor([[5, 1, 4],[2, 1, 2]]).T\n",
        "bias_true = torch.tensor([0.5, 0.25])\n",
        "\n",
        "# # y = w_0 * x_0 + w_1 * x_1 + w_2 * x_2 + b\n",
        "y_true = torch.mm(x ** 2, weights_true) + torch.mm(x, weights_true) + bias_true\n",
        "print(f'x: {x.shape}, weights: {weights_true.shape}, bias: {bias_true.shape}, y: {y_true.shape}')\n",
        "# #x: (200, 3), weights: (3, 2), bias: (2,), y: (200, 2)"
      ],
      "execution_count": 5,
      "outputs": [
        {
          "output_type": "stream",
          "text": [
            "x: torch.Size([200, 3]), weights: torch.Size([3, 2]), bias: torch.Size([2]), y: torch.Size([200, 2])\n"
          ],
          "name": "stdout"
        }
      ]
    },
    {
      "cell_type": "markdown",
      "metadata": {
        "id": "w_CPXR_OCCoK"
      },
      "source": [
        "2. Add ReLu function to learn the non-linear data, we need non-linearities in our model but didn't use it (no auto-differentiation)"
      ]
    },
    {
      "cell_type": "code",
      "metadata": {
        "colab": {
          "base_uri": "https://localhost:8080/"
        },
        "id": "7HvoRglddY5F",
        "outputId": "65e3442e-20cc-4f71-8fa4-5655c4e487a7"
      },
      "source": [
        "# In order to learn non-linear functions, we need non-linearities in our model.\n",
        "\n",
        "m = nn.ReLU()\n",
        "input = torch.randn(10).unsqueeze(-1)\n",
        "output = torch.cat((m(input),m(-input)))\n",
        "\n",
        "print(m(input))"
      ],
      "execution_count": 6,
      "outputs": [
        {
          "output_type": "stream",
          "text": [
            "tensor([[0.4190],\n",
            "        [0.0000],\n",
            "        [1.2361],\n",
            "        [0.5389],\n",
            "        [0.0000],\n",
            "        [0.5871],\n",
            "        [0.2452],\n",
            "        [0.6257],\n",
            "        [0.0000],\n",
            "        [0.0000]])\n"
          ],
          "name": "stdout"
        }
      ]
    },
    {
      "cell_type": "code",
      "metadata": {
        "id": "yM-mu8fwUdzC"
      },
      "source": [
        "def model(x, weights_true, bias_true):\n",
        "  return weights_true * x + bias_true\n",
        "\n",
        "def loss_fn(t_p, y):\n",
        "  squared_diffs = (t_p - y)**2\n",
        "  return squared_diffs.mean()"
      ],
      "execution_count": 7,
      "outputs": []
    },
    {
      "cell_type": "markdown",
      "metadata": {
        "id": "zatQjTbKP4FZ"
      },
      "source": [
        "3. Train the 3dim and 2output generated data using Pytorch"
      ]
    },
    {
      "cell_type": "code",
      "metadata": {
        "id": "rWfL7uUDErKh"
      },
      "source": [
        "def model(x, weights_true, bias_true):\n",
        "    return weights_true * x + bias_true"
      ],
      "execution_count": 8,
      "outputs": []
    },
    {
      "cell_type": "code",
      "metadata": {
        "id": "hYs7a5H4IF0_"
      },
      "source": [
        "def loss_fn(t_p, y):\n",
        "    squared_diffs = (t_p - y)**2\n",
        "    return squared_diffs.mean()"
      ],
      "execution_count": 9,
      "outputs": []
    },
    {
      "cell_type": "code",
      "metadata": {
        "colab": {
          "base_uri": "https://localhost:8080/"
        },
        "id": "n2Xn_vweIhGC",
        "outputId": "f26c0dad-3b5e-42bd-c709-a8937f97e458"
      },
      "source": [
        "import torch.optim as optim\n",
        "dir(optim)"
      ],
      "execution_count": 10,
      "outputs": [
        {
          "output_type": "execute_result",
          "data": {
            "text/plain": [
              "['ASGD',\n",
              " 'Adadelta',\n",
              " 'Adagrad',\n",
              " 'Adam',\n",
              " 'AdamW',\n",
              " 'Adamax',\n",
              " 'LBFGS',\n",
              " 'Optimizer',\n",
              " 'RMSprop',\n",
              " 'Rprop',\n",
              " 'SGD',\n",
              " 'SparseAdam',\n",
              " '__builtins__',\n",
              " '__cached__',\n",
              " '__doc__',\n",
              " '__file__',\n",
              " '__loader__',\n",
              " '__name__',\n",
              " '__package__',\n",
              " '__path__',\n",
              " '__spec__',\n",
              " '_functional',\n",
              " '_multi_tensor',\n",
              " 'lr_scheduler',\n",
              " 'swa_utils']"
            ]
          },
          "metadata": {
            "tags": []
          },
          "execution_count": 10
        }
      ]
    },
    {
      "cell_type": "code",
      "metadata": {
        "id": "wKUKyQEPWm0t"
      },
      "source": [
        "params = torch.tensor([1.0, 0.0], requires_grad=False) # No autodifferentiation\n",
        "learning_rate = 1e-2\n",
        "optimizer = optim.SGD([params], lr=learning_rate)\n",
        "\n",
        "params \n",
        "\n",
        "def training_loop(n_epochs, optimizer, params, x, y):\n",
        "    for epoch in range(1, n_epochs + 1):\n",
        "        t_p = model(x, *params) \n",
        "        loss = loss_fn(t_p, y)\n",
        "        \n",
        "        optimizer.zero_grad()\n",
        "        # loss.backward()\n",
        "        optimizer.step()\n",
        "\n",
        "        if epoch % 500 == 0:\n",
        "            print('Epoch %d, Loss %f' % (epoch, float(loss)))\n",
        "            \n",
        "    return params"
      ],
      "execution_count": 11,
      "outputs": []
    },
    {
      "cell_type": "code",
      "metadata": {
        "colab": {
          "base_uri": "https://localhost:8080/"
        },
        "id": "s6fXJMNUWtqQ",
        "outputId": "03913c99-f59c-469e-f8d2-921addd838f0"
      },
      "source": [
        "training_loop(\n",
        "    n_epochs = 5000, \n",
        "    optimizer = optimizer,\n",
        "    params = params, # <1> \n",
        "    x = x_un,\n",
        "    y = y)"
      ],
      "execution_count": 12,
      "outputs": [
        {
          "output_type": "stream",
          "text": [
            "Epoch 500, Loss 0.337121\n",
            "Epoch 1000, Loss 0.337121\n",
            "Epoch 1500, Loss 0.337121\n",
            "Epoch 2000, Loss 0.337121\n",
            "Epoch 2500, Loss 0.337121\n",
            "Epoch 3000, Loss 0.337121\n",
            "Epoch 3500, Loss 0.337121\n",
            "Epoch 4000, Loss 0.337121\n",
            "Epoch 4500, Loss 0.337121\n",
            "Epoch 5000, Loss 0.337121\n"
          ],
          "name": "stdout"
        },
        {
          "output_type": "execute_result",
          "data": {
            "text/plain": [
              "tensor([1., 0.])"
            ]
          },
          "metadata": {
            "tags": []
          },
          "execution_count": 12
        }
      ]
    },
    {
      "cell_type": "markdown",
      "metadata": {
        "id": "ZR_y4VwqCYG1"
      },
      "source": [
        "4. Fit the model and compute the cost function using Pytorch\n"
      ]
    },
    {
      "cell_type": "code",
      "metadata": {
        "colab": {
          "base_uri": "https://localhost:8080/"
        },
        "id": "I2_ihUlsc22d",
        "outputId": "a98cdb0d-532e-4223-c4da-9512626a46ab"
      },
      "source": [
        "# Now we run the training loop\n",
        "\n",
        "params = torch.tensor([1.0, 0.0], requires_grad=False)\n",
        "learning_rate = 1e-2\n",
        "optimizer = optim.SGD([params], lr=learning_rate)\n",
        "\n",
        "y_pred = model(x_un, *params)\n",
        "loss = loss_fn(y_pred, y)\n",
        "\n",
        "optimizer.zero_grad() # <1>\n",
        "# loss.backward()\n",
        "optimizer.step()\n",
        "\n",
        "params"
      ],
      "execution_count": 13,
      "outputs": [
        {
          "output_type": "execute_result",
          "data": {
            "text/plain": [
              "tensor([1., 0.])"
            ]
          },
          "metadata": {
            "tags": []
          },
          "execution_count": 13
        }
      ]
    },
    {
      "cell_type": "code",
      "metadata": {
        "id": "9S6-VmiUM_Bh"
      },
      "source": [
        "# Now we run the training loop\n",
        "from typing import Callable\n",
        "\n",
        "def torch_fit(x: np.ndarray, y: np.ndarray, model: Callable, loss: Callable, lr: float, num_epochs: int):\n",
        "  # optimizer = torch.optim.SGD(model.parameters(), lr=lr)\n",
        "  for epoch in range(num_epochs):\n",
        "    optimizer.zero_grad()\n",
        "    y_pred = model(x_un, *params)\n",
        "    optimizer.step()\n",
        "\n",
        "torch_fit(x, y, model=model, loss=loss, lr=0.1, num_epochs=40)"
      ],
      "execution_count": 14,
      "outputs": []
    },
    {
      "cell_type": "markdown",
      "metadata": {
        "id": "qqA7apTVC-Bt"
      },
      "source": [
        "6. Plot the output post training as well as the real data  using tsne. Result: Similar plots but different values"
      ]
    },
    {
      "cell_type": "code",
      "metadata": {
        "id": "aHINaJBWeCfB"
      },
      "source": [
        "import matplotlib.pyplot as plt\n",
        "from sklearn.manifold import TSNE\n",
        "\n",
        "view = TSNE(n_components=2, perplexity=2,learning_rate=200,random_state=123).fit_transform(x, y_pred)\n",
        "view.shape\n",
        "\n",
        "def plot_tsne(x, y, y_pred):\n",
        "  plt.figure(figsize=(10,5))\n",
        "  plt.scatter(view[:,0], view[:,0], alpha=0.5, label='underlying function')\n",
        "  if y_true is not None:\n",
        "    plt.scatter(view[:, 1], view[:, 1], label='our function')\n",
        "  plt.xlabel('t-SNE-1')\n",
        "  plt.ylabel('t-SNE-2')\n",
        "  plt.legend()"
      ],
      "execution_count": 15,
      "outputs": []
    },
    {
      "cell_type": "code",
      "metadata": {
        "colab": {
          "base_uri": "https://localhost:8080/",
          "height": 334
        },
        "id": "f10Zjgb-eAAo",
        "outputId": "f642af33-0f53-4499-dba8-8bdf7cc3d40b"
      },
      "source": [
        "plot_tsne(x, y, y_pred)"
      ],
      "execution_count": 16,
      "outputs": [
        {
          "output_type": "display_data",
          "data": {
            "image/png": "[encoded data removed]",
            "text/plain": [
              "<Figure size 720x360 with 1 Axes>"
            ]
          },
          "metadata": {
            "tags": [],
            "needs_background": "light"
          }
        }
      ]
    }
  ]
}