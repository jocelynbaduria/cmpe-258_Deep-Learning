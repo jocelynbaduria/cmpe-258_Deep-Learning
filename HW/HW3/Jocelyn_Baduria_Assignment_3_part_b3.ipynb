{
  "nbformat": 4,
  "nbformat_minor": 0,
  "metadata": {
    "colab": {
      "name": "Jocelyn_Baduria_Assignment 3_part_b3.ipynb",
      "provenance": [],
      "collapsed_sections": [],
      "authorship_tag": "ABX9TyMGIOxCbbL8GzuyuMsOFh3O",
      "include_colab_link": true
    },
    "kernelspec": {
      "name": "python3",
      "display_name": "Python 3"
    },
    "language_info": {
      "name": "python"
    }
  },
  "cells": [
    {
      "cell_type": "markdown",
      "metadata": {
        "id": "view-in-github",
        "colab_type": "text"
      },
      "source": [
        "<a href=\"https://colab.research.google.com/github/jocelynbaduria/Assignment-3-_part_a_b_c.ipynb/blob/main/Jocelyn_Baduria_Assignment_3_part_b3.ipynb\" target=\"_parent\"><img src=\"https://colab.research.google.com/assets/colab-badge.svg\" alt=\"Open In Colab\"/></a>"
      ]
    },
    {
      "cell_type": "markdown",
      "metadata": {
        "id": "RyrBJ2DE21Yv"
      },
      "source": [
        "# B3. Pytorch\n",
        "With auto differentiation high level primitive"
      ]
    },
    {
      "cell_type": "code",
      "metadata": {
        "colab": {
          "base_uri": "https://localhost:8080/"
        },
        "id": "jANoXmH12Nx_",
        "outputId": "a3e4b05a-8930-409e-e183-d75cb1c5c5b2"
      },
      "source": [
        "!pip list | grep tensor"
      ],
      "execution_count": 114,
      "outputs": [
        {
          "output_type": "stream",
          "text": [
            "tensorboard                   2.4.1         \n",
            "tensorboard-plugin-wit        1.8.0         \n",
            "tensorflow                    2.4.1         \n",
            "tensorflow-datasets           4.0.1         \n",
            "tensorflow-estimator          2.4.0         \n",
            "tensorflow-gcs-config         2.4.0         \n",
            "tensorflow-hub                0.11.0        \n",
            "tensorflow-metadata           0.28.0        \n",
            "tensorflow-probability        0.12.1        \n"
          ],
          "name": "stdout"
        }
      ]
    },
    {
      "cell_type": "code",
      "metadata": {
        "colab": {
          "base_uri": "https://localhost:8080/"
        },
        "id": "brp8XawN3X1q",
        "outputId": "91df7117-ce78-4026-81fe-3ba19f0e028b"
      },
      "source": [
        "!pip list | grep torch"
      ],
      "execution_count": 115,
      "outputs": [
        {
          "output_type": "stream",
          "text": [
            "torch                         1.8.0+cu101   \n",
            "torchsummary                  1.5.1         \n",
            "torchtext                     0.9.0         \n",
            "torchvision                   0.9.0+cu101   \n"
          ],
          "name": "stdout"
        }
      ]
    },
    {
      "cell_type": "code",
      "metadata": {
        "colab": {
          "base_uri": "https://localhost:8080/"
        },
        "id": "kqbuwzzfJrsF",
        "outputId": "9953a65d-2aec-4365-b660-931a5aeafdbb"
      },
      "source": [
        "!pip3 install torch torchvision"
      ],
      "execution_count": 116,
      "outputs": [
        {
          "output_type": "stream",
          "text": [
            "Requirement already satisfied: torch in /usr/local/lib/python3.7/dist-packages (1.8.0+cu101)\n",
            "Requirement already satisfied: torchvision in /usr/local/lib/python3.7/dist-packages (0.9.0+cu101)\n",
            "Requirement already satisfied: numpy in /usr/local/lib/python3.7/dist-packages (from torch) (1.19.5)\n",
            "Requirement already satisfied: typing-extensions in /usr/local/lib/python3.7/dist-packages (from torch) (3.7.4.3)\n",
            "Requirement already satisfied: pillow>=4.1.1 in /usr/local/lib/python3.7/dist-packages (from torchvision) (7.0.0)\n"
          ],
          "name": "stdout"
        }
      ]
    },
    {
      "cell_type": "code",
      "metadata": {
        "id": "5N-9UtCXKPkP"
      },
      "source": [
        "import torch\n",
        "import torch.nn as nn\n",
        "import numpy as np\n",
        "import torch.optim as optim\n",
        "\n",
        "torch.set_printoptions(edgeitems=2, linewidth=75)"
      ],
      "execution_count": 117,
      "outputs": []
    },
    {
      "cell_type": "markdown",
      "metadata": {
        "id": "5-kse_nz3I83"
      },
      "source": [
        "1. Generate data: 3 dimensions input and 2 dimensions output"
      ]
    },
    {
      "cell_type": "code",
      "metadata": {
        "colab": {
          "base_uri": "https://localhost:8080/"
        },
        "id": "DjmrBMJRVCq2",
        "outputId": "3b4e7e01-5127-4b4f-a919-5486d0c1aecf"
      },
      "source": [
        "# Make non-linear data, using 3 dimensional input data and 2 output neurons\n",
        "n_samples = 200\n",
        "d1 = 3\n",
        "d2 = 3\n",
        "x = torch.FloatTensor(n_samples, d1).uniform_(-1,1)\n",
        "y = torch.FloatTensor(n_samples, d2).uniform_(-1,1)\n",
        "\n",
        "x_un = 0.1 * x\n",
        "weights_true = torch.FloatTensor([[5, 1, 4],[2, 1, 2]]).T\n",
        "bias_true = torch.tensor([0.5, 0.25])\n",
        "\n",
        "# # y = w_0 * x_0 + w_1 * x_1 + w_2 * x_2 + b\n",
        "y_true = torch.mm(x ** 2, weights_true) + torch.mm(x, weights_true) + bias_true\n",
        "print(f'x: {x.shape}, weights: {weights_true.shape}, bias: {bias_true.shape}, y: {y_true.shape}')\n",
        "# #x: (200, 3), weights: (3, 2), bias: (2,), y: (200, 2)"
      ],
      "execution_count": 118,
      "outputs": [
        {
          "output_type": "stream",
          "text": [
            "x: torch.Size([200, 3]), weights: torch.Size([3, 2]), bias: torch.Size([2]), y: torch.Size([200, 2])\n"
          ],
          "name": "stdout"
        }
      ]
    },
    {
      "cell_type": "markdown",
      "metadata": {
        "id": "N_9yhdvpYnLd"
      },
      "source": [
        "2. Add Linear function using 10samples training input and two samples for training output"
      ]
    },
    {
      "cell_type": "code",
      "metadata": {
        "colab": {
          "base_uri": "https://localhost:8080/"
        },
        "id": "lP8aqxOqaarE",
        "outputId": "b6e2f073-cdc3-4ea3-a996-25045afcab4e"
      },
      "source": [
        "y = torch.tensor(y).unsqueeze(1) # <1>\n",
        "x = torch.tensor(x).unsqueeze(1) # <1>\n",
        "\n",
        "n_samples = x.shape[0] \n",
        "n_val = int(0.2 * n_samples)\n",
        "\n",
        "shuffled_indices = torch.randperm(n_samples)\n",
        "\n",
        "train_indices = shuffled_indices[:-n_val]\n",
        "val_indices = shuffled_indices[-n_val:]\n",
        "\n",
        "train_indices, val_indices"
      ],
      "execution_count": 119,
      "outputs": [
        {
          "output_type": "stream",
          "text": [
            "/usr/local/lib/python3.7/dist-packages/ipykernel_launcher.py:1: UserWarning: To copy construct from a tensor, it is recommended to use sourceTensor.clone().detach() or sourceTensor.clone().detach().requires_grad_(True), rather than torch.tensor(sourceTensor).\n",
            "  \"\"\"Entry point for launching an IPython kernel.\n",
            "/usr/local/lib/python3.7/dist-packages/ipykernel_launcher.py:2: UserWarning: To copy construct from a tensor, it is recommended to use sourceTensor.clone().detach() or sourceTensor.clone().detach().requires_grad_(True), rather than torch.tensor(sourceTensor).\n",
            "  \n"
          ],
          "name": "stderr"
        },
        {
          "output_type": "execute_result",
          "data": {
            "text/plain": [
              "(tensor([113,   2,  88, 105, 118, 103,  89, 165, 174,  65, 190,  68,  78,\n",
              "         127, 133,   8, 123, 104,  82, 119, 144,  46,  34,  14, 122,   5,\n",
              "           9, 189, 167, 142,   6, 143, 199,  67,  15, 150,  51,  25,  94,\n",
              "         121, 146, 149,  85, 173, 114, 141, 160, 125,  45, 126,  74,  19,\n",
              "          30,  55,  35, 156,  61,  48,  22, 106,  16, 130,  56,  77,   1,\n",
              "         179, 171, 197,  96, 177,  99,  27, 196,  12,  58, 132, 154,  71,\n",
              "         198,   0, 138,  50,  52, 182,  59, 191, 120, 162, 164, 115, 184,\n",
              "         193, 169,  66, 140, 148,  39, 108, 194, 152, 137,  29, 128, 161,\n",
              "          83,  38, 101,  93,  87, 145, 168,  20,  76,  33,  73,   3,  63,\n",
              "         158,  24,  97, 187,   7,  98,  95,  75,  92,  37,  43,  53, 100,\n",
              "          11, 147, 185,  91,  18, 134, 170, 183,  60,   4, 172,  72,  84,\n",
              "         117, 192,  17, 111,  80,  23, 195, 155,  26, 136, 131, 109,  69,\n",
              "         153,  54,  86,  90]),\n",
              " tensor([ 57, 166, 186, 180,  31, 139, 181, 124,  21, 176,  36, 129,  42,\n",
              "          28,  10,  32,  64,  81,  41, 116, 178, 157, 163,  13, 110,  44,\n",
              "         135,  40,  70,  47, 112, 159,  49, 151,  79, 175,  62, 102, 188,\n",
              "         107]))"
            ]
          },
          "metadata": {
            "tags": []
          },
          "execution_count": 119
        }
      ]
    },
    {
      "cell_type": "code",
      "metadata": {
        "id": "jgpYMY_DbWgw"
      },
      "source": [
        "x_train = x[train_indices] # x\n",
        "y_train = y[train_indices] # y\n",
        "\n",
        "x_val = x[val_indices] # x\n",
        "y_val = y[val_indices] # y\n",
        "\n",
        "x_train = 0.1 * x_train \n",
        "x_val = 0.1 * x_val"
      ],
      "execution_count": 120,
      "outputs": []
    },
    {
      "cell_type": "code",
      "metadata": {
        "colab": {
          "base_uri": "https://localhost:8080/"
        },
        "id": "s8e79WOVYsEM",
        "outputId": "0c0ac1c5-4b1a-4408-e0d9-a62fcb889d11"
      },
      "source": [
        "import torch.nn as nn\n",
        "\n",
        "linear_model = nn.Linear(3, 1, 2) # <1>\n",
        "linear_model(x_val)"
      ],
      "execution_count": 121,
      "outputs": [
        {
          "output_type": "execute_result",
          "data": {
            "text/plain": [
              "tensor([[[-0.3046]],\n",
              "\n",
              "        [[-0.3135]],\n",
              "\n",
              "        [[-0.3002]],\n",
              "\n",
              "        [[-0.2948]],\n",
              "\n",
              "        [[-0.3196]],\n",
              "\n",
              "        [[-0.2968]],\n",
              "\n",
              "        [[-0.3158]],\n",
              "\n",
              "        [[-0.2949]],\n",
              "\n",
              "        [[-0.2942]],\n",
              "\n",
              "        [[-0.2940]],\n",
              "\n",
              "        [[-0.2990]],\n",
              "\n",
              "        [[-0.3056]],\n",
              "\n",
              "        [[-0.3177]],\n",
              "\n",
              "        [[-0.3500]],\n",
              "\n",
              "        [[-0.2951]],\n",
              "\n",
              "        [[-0.2988]],\n",
              "\n",
              "        [[-0.3264]],\n",
              "\n",
              "        [[-0.2988]],\n",
              "\n",
              "        [[-0.2885]],\n",
              "\n",
              "        [[-0.2920]],\n",
              "\n",
              "        [[-0.2946]],\n",
              "\n",
              "        [[-0.2882]],\n",
              "\n",
              "        [[-0.3378]],\n",
              "\n",
              "        [[-0.3043]],\n",
              "\n",
              "        [[-0.3151]],\n",
              "\n",
              "        [[-0.2960]],\n",
              "\n",
              "        [[-0.3305]],\n",
              "\n",
              "        [[-0.3149]],\n",
              "\n",
              "        [[-0.3193]],\n",
              "\n",
              "        [[-0.2950]],\n",
              "\n",
              "        [[-0.2930]],\n",
              "\n",
              "        [[-0.3207]],\n",
              "\n",
              "        [[-0.3015]],\n",
              "\n",
              "        [[-0.3270]],\n",
              "\n",
              "        [[-0.3137]],\n",
              "\n",
              "        [[-0.2990]],\n",
              "\n",
              "        [[-0.3097]],\n",
              "\n",
              "        [[-0.3091]],\n",
              "\n",
              "        [[-0.3168]],\n",
              "\n",
              "        [[-0.2975]]], grad_fn=<AddBackward0>)"
            ]
          },
          "metadata": {
            "tags": []
          },
          "execution_count": 121
        }
      ]
    },
    {
      "cell_type": "code",
      "metadata": {
        "colab": {
          "base_uri": "https://localhost:8080/"
        },
        "id": "9S7ixr41dcwZ",
        "outputId": "d753025c-42a8-4b34-d0f6-dada4c41a636"
      },
      "source": [
        "linear_model.weight"
      ],
      "execution_count": 122,
      "outputs": [
        {
          "output_type": "execute_result",
          "data": {
            "text/plain": [
              "Parameter containing:\n",
              "tensor([[-0.0735, -0.0446,  0.2734]], requires_grad=True)"
            ]
          },
          "metadata": {
            "tags": []
          },
          "execution_count": 122
        }
      ]
    },
    {
      "cell_type": "code",
      "metadata": {
        "colab": {
          "base_uri": "https://localhost:8080/"
        },
        "id": "t1HofV74dhM7",
        "outputId": "ea2f235e-9092-4f59-d1b3-ccf131b499c2"
      },
      "source": [
        "linear_model.bias"
      ],
      "execution_count": 123,
      "outputs": [
        {
          "output_type": "execute_result",
          "data": {
            "text/plain": [
              "Parameter containing:\n",
              "tensor([-0.3150], requires_grad=True)"
            ]
          },
          "metadata": {
            "tags": []
          },
          "execution_count": 123
        }
      ]
    },
    {
      "cell_type": "code",
      "metadata": {
        "colab": {
          "base_uri": "https://localhost:8080/"
        },
        "id": "AJ1cA_Urdoz0",
        "outputId": "31a04e53-c10f-43b5-ef1d-0cd72e002226"
      },
      "source": [
        "x = torch.ones(3)\n",
        "linear_model(x)"
      ],
      "execution_count": 124,
      "outputs": [
        {
          "output_type": "execute_result",
          "data": {
            "text/plain": [
              "tensor([-0.1597], grad_fn=<AddBackward0>)"
            ]
          },
          "metadata": {
            "tags": []
          },
          "execution_count": 124
        }
      ]
    },
    {
      "cell_type": "code",
      "metadata": {
        "colab": {
          "base_uri": "https://localhost:8080/"
        },
        "id": "ohmoWeNNd3x0",
        "outputId": "004f9a42-0f96-40cc-a6db-1e1e4c71b23b"
      },
      "source": [
        "x = torch.ones(10, 3)\n",
        "linear_model(x)"
      ],
      "execution_count": 125,
      "outputs": [
        {
          "output_type": "execute_result",
          "data": {
            "text/plain": [
              "tensor([[-0.1597],\n",
              "        [-0.1597],\n",
              "        [-0.1597],\n",
              "        [-0.1597],\n",
              "        [-0.1597],\n",
              "        [-0.1597],\n",
              "        [-0.1597],\n",
              "        [-0.1597],\n",
              "        [-0.1597],\n",
              "        [-0.1597]], grad_fn=<AddmmBackward>)"
            ]
          },
          "metadata": {
            "tags": []
          },
          "execution_count": 125
        }
      ]
    },
    {
      "cell_type": "code",
      "metadata": {
        "id": "iwFFojfjd_VS"
      },
      "source": [
        "linear_model = nn.Linear(3, 1, 2) # <1>\n",
        "optimizer = optim.SGD(\n",
        "    linear_model.parameters(), # <2>\n",
        "    lr=1e-2)"
      ],
      "execution_count": 126,
      "outputs": []
    },
    {
      "cell_type": "code",
      "metadata": {
        "colab": {
          "base_uri": "https://localhost:8080/"
        },
        "id": "Ze72fa4VeHtt",
        "outputId": "f67b3a13-d2eb-422d-aa55-f2c98e4637d2"
      },
      "source": [
        "linear_model.parameters()"
      ],
      "execution_count": 127,
      "outputs": [
        {
          "output_type": "execute_result",
          "data": {
            "text/plain": [
              "<generator object Module.parameters at 0x7fa00f4f96d0>"
            ]
          },
          "metadata": {
            "tags": []
          },
          "execution_count": 127
        }
      ]
    },
    {
      "cell_type": "code",
      "metadata": {
        "colab": {
          "base_uri": "https://localhost:8080/"
        },
        "id": "bzdNZE-OeNPv",
        "outputId": "5ebad52d-9972-4bc0-d2ff-217791216f1b"
      },
      "source": [
        "list(linear_model.parameters())"
      ],
      "execution_count": 128,
      "outputs": [
        {
          "output_type": "execute_result",
          "data": {
            "text/plain": [
              "[Parameter containing:\n",
              " tensor([[ 0.2741, -0.4835,  0.0187]], requires_grad=True),\n",
              " Parameter containing:\n",
              " tensor([-0.2847], requires_grad=True)]"
            ]
          },
          "metadata": {
            "tags": []
          },
          "execution_count": 128
        }
      ]
    },
    {
      "cell_type": "markdown",
      "metadata": {
        "id": "w_CPXR_OCCoK"
      },
      "source": [
        "3. Perform Training Loop Function"
      ]
    },
    {
      "cell_type": "code",
      "metadata": {
        "id": "Le-3X2h5ePRu"
      },
      "source": [
        "def training_loop(n_epochs, optimizer, model, loss_fn, x_train, x_val,\n",
        "                  y_train, y_val):\n",
        "    for epoch in range(1, n_epochs + 1):\n",
        "        t_p_train = model(x_train) # <1>\n",
        "        loss_train = loss_fn(t_p_train, y_train)\n",
        "\n",
        "        t_p_val = model(x_val) # <1>\n",
        "        loss_val = loss_fn(t_p_val, x_val)\n",
        "        \n",
        "        optimizer.zero_grad()\n",
        "        loss_train.backward() # <2>\n",
        "        optimizer.step()\n",
        "\n",
        "        if epoch == 1 or epoch % 1000 == 0:\n",
        "            print(f\"Epoch {epoch}, Training loss {loss_train.item():.4f},\"\n",
        "                  f\" Validation loss {loss_val.item():.4f}\")"
      ],
      "execution_count": 129,
      "outputs": []
    },
    {
      "cell_type": "markdown",
      "metadata": {
        "id": "pmM9hpuG4Z_e"
      },
      "source": [
        "4. Add ReLU Function\n"
      ]
    },
    {
      "cell_type": "code",
      "metadata": {
        "colab": {
          "base_uri": "https://localhost:8080/"
        },
        "id": "PV6Abg7y4dS5",
        "outputId": "a6f6a405-1bf9-4f49-e915-15ca4a1d61bf"
      },
      "source": [
        "# In order to learn non-linear functions, we need non-linearities in our model.\n",
        "\n",
        "class Relu:\n",
        "    def __call__(self, input_):\n",
        "        self.input_ = input_\n",
        "        self.output = np.clip(self.input_, 0, None)\n",
        "        return self.output\n",
        "    \n",
        "    def backward(self, output_gradient):\n",
        "      # import pdb; pdb.set_trace()  # By the way, this is how you can debug\n",
        "      self.input_gradient = (self.input_ > 0) * output_gradient\n",
        "      return self.input_gradient\n",
        "\n",
        "m = nn.ReLU()\n",
        "input = torch.randn(10).unsqueeze(-1)\n",
        "output = torch.cat((m(input),m(-input)))\n",
        "\n",
        "print(m(input))\n",
        "print(m(output))"
      ],
      "execution_count": 130,
      "outputs": [
        {
          "output_type": "stream",
          "text": [
            "tensor([[2.4248],\n",
            "        [0.0000],\n",
            "        [0.0000],\n",
            "        [1.7490],\n",
            "        [0.0000],\n",
            "        [0.0000],\n",
            "        [1.3997],\n",
            "        [0.0000],\n",
            "        [0.0000],\n",
            "        [0.4997]])\n",
            "tensor([[2.4248],\n",
            "        [0.0000],\n",
            "        [0.0000],\n",
            "        [1.7490],\n",
            "        [0.0000],\n",
            "        [0.0000],\n",
            "        [1.3997],\n",
            "        [0.0000],\n",
            "        [0.0000],\n",
            "        [0.4997],\n",
            "        [0.0000],\n",
            "        [1.4755],\n",
            "        [0.3923],\n",
            "        [0.0000],\n",
            "        [0.3193],\n",
            "        [0.8614],\n",
            "        [0.0000],\n",
            "        [1.7591],\n",
            "        [0.8792],\n",
            "        [0.0000]])\n"
          ],
          "name": "stdout"
        }
      ]
    },
    {
      "cell_type": "markdown",
      "metadata": {
        "id": "sNDVuXBjefn0"
      },
      "source": [
        "5. Compute Cost Function"
      ]
    },
    {
      "cell_type": "code",
      "metadata": {
        "colab": {
          "base_uri": "https://localhost:8080/"
        },
        "id": "VOhtbQG8egJ9",
        "outputId": "eba37a43-7653-45fe-e22e-9741bd14c0fd"
      },
      "source": [
        "def loss_fn(t_p, y):\n",
        "    squared_diffs = (t_p - y)**2\n",
        "    return squared_diffs.mean()\n",
        "\n",
        "linear_model = nn.Linear(3, 1, 2) # <1>\n",
        "optimizer = optim.SGD(linear_model.parameters(), lr=1e-2)\n",
        "y_val = nn.ReLU(output)\n",
        "training_loop(\n",
        "    n_epochs = 3000, \n",
        "    optimizer = optimizer,\n",
        "    model = linear_model,\n",
        "    loss_fn = loss_fn,\n",
        "    x_train = x_train,\n",
        "    x_val = x_val, \n",
        "    y_train = y_train,\n",
        "    y_val = y_val)\n",
        "\n",
        "print()\n",
        "print(linear_model.weight)\n",
        "print(linear_model.bias)"
      ],
      "execution_count": 131,
      "outputs": [
        {
          "output_type": "stream",
          "text": [
            "Epoch 1, Training loss 0.5269, Validation loss 0.2279\n",
            "Epoch 1000, Training loss 0.3434, Validation loss 0.0058\n",
            "Epoch 2000, Training loss 0.3428, Validation loss 0.0057\n",
            "Epoch 3000, Training loss 0.3423, Validation loss 0.0056\n",
            "\n",
            "Parameter containing:\n",
            "tensor([[-0.3513,  0.2384,  0.3054]], requires_grad=True)\n",
            "Parameter containing:\n",
            "tensor([-0.0508], requires_grad=True)\n"
          ],
          "name": "stdout"
        }
      ]
    },
    {
      "cell_type": "markdown",
      "metadata": {
        "id": "I67rdIN73Uda"
      },
      "source": [
        "5. Train again the model after performing cost function computation and adding ReLU and optimization"
      ]
    },
    {
      "cell_type": "code",
      "metadata": {
        "colab": {
          "base_uri": "https://localhost:8080/"
        },
        "id": "0gXRzDktfecN",
        "outputId": "be87a0a5-d35d-40a0-a425-0df224cf9340"
      },
      "source": [
        "linear_model = nn.Linear(3, 1, 2)\n",
        "optimizer = optim.SGD(linear_model.parameters(), lr=1e-3)\n",
        "y_val = nn.ReLU(output)\n",
        "training_loop(\n",
        "    n_epochs = 3000, \n",
        "    optimizer = optimizer,\n",
        "    model = linear_model,\n",
        "    loss_fn = nn.MSELoss(), # <1>\n",
        "    x_train = x_train,\n",
        "    x_val = x_val, \n",
        "    y_train = y_train,\n",
        "    y_val = y_val)\n",
        "\n",
        "print()\n",
        "print(linear_model.weight)\n",
        "print(linear_model.bias)"
      ],
      "execution_count": 132,
      "outputs": [
        {
          "output_type": "stream",
          "text": [
            "Epoch 1, Training loss 0.4498, Validation loss 0.0727\n"
          ],
          "name": "stdout"
        },
        {
          "output_type": "stream",
          "text": [
            "/usr/local/lib/python3.7/dist-packages/torch/nn/modules/loss.py:528: UserWarning: Using a target size (torch.Size([160, 1, 3])) that is different to the input size (torch.Size([160, 1, 1])). This will likely lead to incorrect results due to broadcasting. Please ensure they have the same size.\n",
            "  return F.mse_loss(input, target, reduction=self.reduction)\n",
            "/usr/local/lib/python3.7/dist-packages/torch/nn/modules/loss.py:528: UserWarning: Using a target size (torch.Size([40, 1, 3])) that is different to the input size (torch.Size([40, 1, 1])). This will likely lead to incorrect results due to broadcasting. Please ensure they have the same size.\n",
            "  return F.mse_loss(input, target, reduction=self.reduction)\n"
          ],
          "name": "stderr"
        },
        {
          "output_type": "stream",
          "text": [
            "Epoch 1000, Training loss 0.3454, Validation loss 0.0034\n",
            "Epoch 2000, Training loss 0.3434, Validation loss 0.0061\n",
            "Epoch 3000, Training loss 0.3433, Validation loss 0.0067\n",
            "\n",
            "Parameter containing:\n",
            "tensor([[-0.0210,  0.4533, -0.1241]], requires_grad=True)\n",
            "Parameter containing:\n",
            "tensor([-0.0518], requires_grad=True)\n"
          ],
          "name": "stdout"
        }
      ]
    },
    {
      "cell_type": "markdown",
      "metadata": {
        "id": "in8AWeBOhaTB"
      },
      "source": [
        "6. Sequential Function using ReLU activation function in Hidden Layer"
      ]
    },
    {
      "cell_type": "code",
      "metadata": {
        "colab": {
          "base_uri": "https://localhost:8080/"
        },
        "id": "rXQAhzWmhUzL",
        "outputId": "dd40c485-8354-4c70-f18b-5f7126b6b3dd"
      },
      "source": [
        "seq_model = nn.Sequential(\n",
        "            nn.Linear(1, 13), # <1>\n",
        "            nn.ReLU(),\n",
        "            nn.Linear(13, 1)) # <2>\n",
        "            # nn.Linear(1, 3, 2)) # <2>\n",
        "seq_model"
      ],
      "execution_count": 133,
      "outputs": [
        {
          "output_type": "execute_result",
          "data": {
            "text/plain": [
              "Sequential(\n",
              "  (0): Linear(in_features=1, out_features=13, bias=True)\n",
              "  (1): ReLU()\n",
              "  (2): Linear(in_features=13, out_features=1, bias=True)\n",
              ")"
            ]
          },
          "metadata": {
            "tags": []
          },
          "execution_count": 133
        }
      ]
    },
    {
      "cell_type": "code",
      "metadata": {
        "colab": {
          "base_uri": "https://localhost:8080/"
        },
        "id": "xnI0xyjxhmbK",
        "outputId": "3b4b295f-fa1c-4065-eb0e-4a65d46f070a"
      },
      "source": [
        "[param.shape for param in seq_model.parameters()]"
      ],
      "execution_count": 134,
      "outputs": [
        {
          "output_type": "execute_result",
          "data": {
            "text/plain": [
              "[torch.Size([13, 1]), torch.Size([13]), torch.Size([1, 13]), torch.Size([1])]"
            ]
          },
          "metadata": {
            "tags": []
          },
          "execution_count": 134
        }
      ]
    },
    {
      "cell_type": "code",
      "metadata": {
        "colab": {
          "base_uri": "https://localhost:8080/"
        },
        "id": "kJ--ZWzoht4c",
        "outputId": "1f7b2a00-e6c5-47e9-af12-e32767bf7c13"
      },
      "source": [
        "for name, param in seq_model.named_parameters():\n",
        "    print(name, param.shape)"
      ],
      "execution_count": 135,
      "outputs": [
        {
          "output_type": "stream",
          "text": [
            "0.weight torch.Size([13, 1])\n",
            "0.bias torch.Size([13])\n",
            "2.weight torch.Size([1, 13])\n",
            "2.bias torch.Size([1])\n"
          ],
          "name": "stdout"
        }
      ]
    },
    {
      "cell_type": "code",
      "metadata": {
        "colab": {
          "base_uri": "https://localhost:8080/"
        },
        "id": "9jo5qzvehxqk",
        "outputId": "60e22f19-8ad7-4edb-dee7-7d2bf66fd116"
      },
      "source": [
        "from collections import OrderedDict\n",
        "\n",
        "seq_model = nn.Sequential(OrderedDict([\n",
        "    ('hidden_linear', nn.Linear(1, 8)),\n",
        "    ('hidden_activation', nn.ReLU()),\n",
        "    ('output_linear', nn.Linear(8, 1))\n",
        "]))\n",
        "\n",
        "seq_model"
      ],
      "execution_count": 136,
      "outputs": [
        {
          "output_type": "execute_result",
          "data": {
            "text/plain": [
              "Sequential(\n",
              "  (hidden_linear): Linear(in_features=1, out_features=8, bias=True)\n",
              "  (hidden_activation): ReLU()\n",
              "  (output_linear): Linear(in_features=8, out_features=1, bias=True)\n",
              ")"
            ]
          },
          "metadata": {
            "tags": []
          },
          "execution_count": 136
        }
      ]
    },
    {
      "cell_type": "code",
      "metadata": {
        "colab": {
          "base_uri": "https://localhost:8080/"
        },
        "id": "hc482M1ziJ4G",
        "outputId": "afa5c2f0-528b-4a53-d74b-cb99afa8ec79"
      },
      "source": [
        "for name, param in seq_model.named_parameters():\n",
        "    print(name, param.shape)"
      ],
      "execution_count": 137,
      "outputs": [
        {
          "output_type": "stream",
          "text": [
            "hidden_linear.weight torch.Size([8, 1])\n",
            "hidden_linear.bias torch.Size([8])\n",
            "output_linear.weight torch.Size([1, 8])\n",
            "output_linear.bias torch.Size([1])\n"
          ],
          "name": "stdout"
        }
      ]
    },
    {
      "cell_type": "code",
      "metadata": {
        "colab": {
          "base_uri": "https://localhost:8080/"
        },
        "id": "apUGMnhAiOLK",
        "outputId": "ea3f6461-5f15-4f61-f2a8-3315cbab4adc"
      },
      "source": [
        "seq_model.output_linear.bias"
      ],
      "execution_count": 138,
      "outputs": [
        {
          "output_type": "execute_result",
          "data": {
            "text/plain": [
              "Parameter containing:\n",
              "tensor([0.3265], requires_grad=True)"
            ]
          },
          "metadata": {
            "tags": []
          },
          "execution_count": 138
        }
      ]
    },
    {
      "cell_type": "markdown",
      "metadata": {
        "id": "UVCt5RBfiXMs"
      },
      "source": [
        "7. Fit the model using the cost function and optimization using Pytorch"
      ]
    },
    {
      "cell_type": "code",
      "metadata": {
        "colab": {
          "base_uri": "https://localhost:8080/"
        },
        "id": "I2_ihUlsc22d",
        "outputId": "7a51bb87-e978-4408-fcb8-8a1ff74050bb"
      },
      "source": [
        "# Now we run the training loop\n",
        "from typing import Callable\n",
        "\n",
        "def torch_fit(x: np.ndarray, y: np.ndarray, model: Callable, loss: Callable, lr: float, num_epochs: int):\n",
        "  optimizer = torch.optim.SGD(model.parameters(), lr=lr)\n",
        "  for epoch in range(num_epochs):\n",
        "    optimizer.zero_grad()\n",
        "    y_pred_tensor = model(x)\n",
        "    loss_value = loss_fn(y_pred_tensor, y)\n",
        "    print(loss_value)\n",
        "    loss_value.backward()\n",
        "    optimizer.step()\n",
        "\n",
        "torch_fit(x, y, model=linear_model, loss=loss_fn, lr=0.1, num_epochs=40)"
      ],
      "execution_count": 139,
      "outputs": [
        {
          "output_type": "stream",
          "text": [
            "tensor(0.4260, grad_fn=<MeanBackward0>)\n",
            "tensor(0.3448, grad_fn=<MeanBackward0>)\n",
            "tensor(0.3416, grad_fn=<MeanBackward0>)\n",
            "tensor(0.3414, grad_fn=<MeanBackward0>)\n",
            "tensor(0.3414, grad_fn=<MeanBackward0>)\n",
            "tensor(0.3414, grad_fn=<MeanBackward0>)\n",
            "tensor(0.3414, grad_fn=<MeanBackward0>)\n",
            "tensor(0.3414, grad_fn=<MeanBackward0>)\n",
            "tensor(0.3414, grad_fn=<MeanBackward0>)\n",
            "tensor(0.3414, grad_fn=<MeanBackward0>)\n",
            "tensor(0.3414, grad_fn=<MeanBackward0>)\n",
            "tensor(0.3414, grad_fn=<MeanBackward0>)\n",
            "tensor(0.3414, grad_fn=<MeanBackward0>)\n",
            "tensor(0.3414, grad_fn=<MeanBackward0>)\n",
            "tensor(0.3414, grad_fn=<MeanBackward0>)\n",
            "tensor(0.3414, grad_fn=<MeanBackward0>)\n",
            "tensor(0.3414, grad_fn=<MeanBackward0>)\n",
            "tensor(0.3414, grad_fn=<MeanBackward0>)\n",
            "tensor(0.3414, grad_fn=<MeanBackward0>)\n",
            "tensor(0.3414, grad_fn=<MeanBackward0>)\n",
            "tensor(0.3414, grad_fn=<MeanBackward0>)\n",
            "tensor(0.3414, grad_fn=<MeanBackward0>)\n",
            "tensor(0.3414, grad_fn=<MeanBackward0>)\n",
            "tensor(0.3414, grad_fn=<MeanBackward0>)\n",
            "tensor(0.3414, grad_fn=<MeanBackward0>)\n",
            "tensor(0.3414, grad_fn=<MeanBackward0>)\n",
            "tensor(0.3414, grad_fn=<MeanBackward0>)\n",
            "tensor(0.3414, grad_fn=<MeanBackward0>)\n",
            "tensor(0.3414, grad_fn=<MeanBackward0>)\n",
            "tensor(0.3414, grad_fn=<MeanBackward0>)\n",
            "tensor(0.3414, grad_fn=<MeanBackward0>)\n",
            "tensor(0.3414, grad_fn=<MeanBackward0>)\n",
            "tensor(0.3414, grad_fn=<MeanBackward0>)\n",
            "tensor(0.3414, grad_fn=<MeanBackward0>)\n",
            "tensor(0.3414, grad_fn=<MeanBackward0>)\n",
            "tensor(0.3414, grad_fn=<MeanBackward0>)\n",
            "tensor(0.3414, grad_fn=<MeanBackward0>)\n",
            "tensor(0.3414, grad_fn=<MeanBackward0>)\n",
            "tensor(0.3414, grad_fn=<MeanBackward0>)\n",
            "tensor(0.3414, grad_fn=<MeanBackward0>)\n"
          ],
          "name": "stdout"
        }
      ]
    },
    {
      "cell_type": "markdown",
      "metadata": {
        "id": "qqA7apTVC-Bt"
      },
      "source": [
        "8. Plot the output post training as well as the real data  using tsne with 10 input/2 output training sample. Result: Similar plots but different values"
      ]
    },
    {
      "cell_type": "code",
      "metadata": {
        "id": "aHINaJBWeCfB"
      },
      "source": [
        "import matplotlib.pyplot as plt\n",
        "from sklearn.manifold import TSNE\n",
        "\n",
        "view = TSNE(n_components=2, perplexity=50,learning_rate=200,random_state=123).fit_transform(x, y)\n",
        "view.shape\n",
        "\n",
        "def plot_tsne(x, y, y_pred_tensor):\n",
        "  plt.figure(figsize=(10,5))\n",
        "  plt.scatter(view[:,0], view[:,0], alpha=0.5, label='underlying function')\n",
        "  if y_true is not None:\n",
        "    plt.scatter(view[:, 1], view[:, 1], label='our function')\n",
        "  plt.xlabel('t-SNE-1')\n",
        "  plt.ylabel('t-SNE-2')\n",
        "  plt.legend()"
      ],
      "execution_count": 140,
      "outputs": []
    },
    {
      "cell_type": "code",
      "metadata": {
        "colab": {
          "base_uri": "https://localhost:8080/",
          "height": 334
        },
        "id": "f10Zjgb-eAAo",
        "outputId": "505f91d7-d873-411a-a696-4a4b3af23bfd"
      },
      "source": [
        "plot_tsne(x, y, linear_model(x))"
      ],
      "execution_count": 141,
      "outputs": [
        {
          "output_type": "display_data",
          "data": {
            "image/png": "[encoded data removed]",
            "text/plain": [
              "<Figure size 720x360 with 1 Axes>"
            ]
          },
          "metadata": {
            "tags": [],
            "needs_background": "light"
          }
        }
      ]
    }
  ]
}